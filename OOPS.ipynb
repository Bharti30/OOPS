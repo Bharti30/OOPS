{
  "nbformat": 4,
  "nbformat_minor": 0,
  "metadata": {
    "colab": {
      "provenance": []
    },
    "kernelspec": {
      "name": "python3",
      "display_name": "Python 3"
    },
    "language_info": {
      "name": "python"
    }
  },
  "cells": [
    {
      "cell_type": "markdown",
      "source": [
        "#Python OOPs Questions\n"
      ],
      "metadata": {
        "id": "xyUshVM_2RVF"
      }
    },
    {
      "cell_type": "code",
      "source": [],
      "metadata": {
        "id": "KLWA124Z6tFO"
      },
      "execution_count": null,
      "outputs": []
    },
    {
      "cell_type": "markdown",
      "source": [
        "1. What is Object-Oriented Programming (OOP)?"
      ],
      "metadata": {
        "id": "Y-Feu4c_6t5g"
      }
    },
    {
      "cell_type": "code",
      "source": [],
      "metadata": {
        "id": "LWSBuyCB6yva"
      },
      "execution_count": null,
      "outputs": []
    },
    {
      "cell_type": "markdown",
      "source": [
        "Object-Oriented Programming (OOP) is a way of writing computer programs that is based on the idea of objects.\n",
        "\n",
        "-->Data (attributes): This is the information the object knows about itself. For a \"car\" object, this might be its color, brand, and speed.\n",
        "\n",
        "-->Behaviors (methods): These are the things the object can do. For the \"car\" object, this might be \"start engine,\" \"accelerate,\" or \"brake.\"\n",
        "\n",
        "The main idea is that these objects interact with each other to accomplish a task. This makes the code easier to organize, reuse, and understand.\n",
        "\n",
        "A simple analogy:\n",
        "\n",
        "Imagine you're building a video game. Instead of writing all the code for the game at once, you'd create objects for things like:\n",
        "\n",
        "Player Character: Has attributes like health and score, and methods like \"jump\" and \"shoot.\"\n",
        "\n",
        "Enemy: Has attributes like position and attack power, and methods like \"move\" and \"attack.\"\n",
        "\n",
        "Health Potion: Has an attribute for how much health it restores, and a method like \"use.\"\n",
        "\n",
        "These objects interact: the Player Character might \"shoot\" at the Enemy, which causes the Enemy's health to decrease. This way of thinking and organizing code is the core of OOP."
      ],
      "metadata": {
        "id": "0r9SpU_B6zWR"
      }
    },
    {
      "cell_type": "code",
      "source": [],
      "metadata": {
        "id": "P0kai5ae7D23"
      },
      "execution_count": null,
      "outputs": []
    },
    {
      "cell_type": "markdown",
      "source": [
        "2. What is a class in OOP?"
      ],
      "metadata": {
        "id": "_Yj4IQrw7ETX"
      }
    },
    {
      "cell_type": "code",
      "source": [],
      "metadata": {
        "id": "8OfNfB3V7I1Z"
      },
      "execution_count": null,
      "outputs": []
    },
    {
      "cell_type": "markdown",
      "source": [
        "A class is a blueprint or a template for creating objects. It defines the properties (data) and behaviors (methods) that all objects of that type will have.\n",
        "\n",
        "Think of it like the blueprint for a house:\n",
        "\n",
        "The blueprint (class) defines what the house will have: walls, a roof, windows, and doors.\n",
        "\n",
        "The individual houses (objects) built from that blueprint are all unique instances. One house might be red, another blue, and a third might have a different number of windows, but they all follow the same basic design from the blueprint.\n",
        "\n",
        "In programming, the class Car might define that all cars have a color and a speed, and can accelerate and brake. When you create an object my_car from that class, you can set its color to red and its speed to 60."
      ],
      "metadata": {
        "id": "NZbNP3zg7JN4"
      }
    },
    {
      "cell_type": "code",
      "source": [],
      "metadata": {
        "id": "OA-lxraf7VGn"
      },
      "execution_count": null,
      "outputs": []
    },
    {
      "cell_type": "markdown",
      "source": [
        "3. What is an object in OOP?"
      ],
      "metadata": {
        "id": "u_xvjOJD7Vgp"
      }
    },
    {
      "cell_type": "code",
      "source": [],
      "metadata": {
        "id": "N7x3ES5u7bRh"
      },
      "execution_count": null,
      "outputs": []
    },
    {
      "cell_type": "markdown",
      "source": [
        "An object is a specific, individual instance of a class. It's a real-world entity that has its own unique set of attributes and can perform actions.\n",
        "\n",
        "Think of it as the actual item created from the blueprint.\n",
        "\n",
        "Using the house analogy again:\n",
        "\n",
        "The Class is the blueprint for a \"House.\"\n",
        "\n",
        "An Object is a specific house you build from that blueprint—for example, \"the red house on the corner\" or \"my neighbor's blue house.\"\n",
        "\n",
        "Each object is a unique instance of the class, with its own specific values for the properties defined by the class."
      ],
      "metadata": {
        "id": "7hCZBCpf7cF3"
      }
    },
    {
      "cell_type": "code",
      "source": [],
      "metadata": {
        "id": "nKBhJTrC7glb"
      },
      "execution_count": null,
      "outputs": []
    },
    {
      "cell_type": "markdown",
      "source": [
        "4.What is the difference between abstraction and encapsulation?"
      ],
      "metadata": {
        "id": "Px-4Vyr57ioZ"
      }
    },
    {
      "cell_type": "code",
      "source": [],
      "metadata": {
        "id": "7mlQdwOB7neO"
      },
      "execution_count": null,
      "outputs": []
    },
    {
      "cell_type": "markdown",
      "source": [
        "While both abstraction and encapsulation are core concepts in OOP that deal with hiding complexity, they do so in different ways and for different reasons.\n",
        "\n",
        "---> Abstraction is about what. It focuses on hiding the complex implementation details and showing only the essential functionality to the user. It's about designing a simple interface for a complex system.\n",
        "\n",
        "\n",
        "\n",
        "Analogy: A TV remote control. You use the \"power\" button without needing to know anything about the complex electronics inside the TV that turn it on. Abstraction is the idea of the \"power\" button itself.\n",
        "\n",
        "--->Encapsulation is about how. It is the practice of bundling data and the methods that operate on that data into a single unit (a class). It's about protecting the data from being directly accessed or changed from the outside, ensuring that it is only manipulated through controlled methods.\n",
        "\n",
        "\n",
        "\n",
        "Analogy: The car engine hidden under the hood. All the complex parts of the engine are wrapped up together, and you can only interact with it through the gas pedal, brake pedal, and steering wheel. Encapsulation is the act of putting all those parts under the hood.\n",
        "\n",
        "\n",
        "In short:\n",
        "\n",
        "Abstraction hides complexity and focuses on the interface (\"what it does\").\n",
        "\n",
        "Encapsulation hides data and focuses on structure and security (\"how it's done\").\n",
        "\n",
        "\n",
        "\n",
        "\n",
        "\n",
        "\n"
      ],
      "metadata": {
        "id": "CXTmRWDX7n66"
      }
    },
    {
      "cell_type": "code",
      "source": [],
      "metadata": {
        "id": "jkZc3x5V72mx"
      },
      "execution_count": null,
      "outputs": []
    },
    {
      "cell_type": "markdown",
      "source": [
        "5. What are dunder methods in Python?"
      ],
      "metadata": {
        "id": "8GJRUgnf75pJ"
      }
    },
    {
      "cell_type": "code",
      "source": [],
      "metadata": {
        "id": "E5eJWJhy77WY"
      },
      "execution_count": null,
      "outputs": []
    },
    {
      "cell_type": "markdown",
      "source": [
        "Dunder methods (short for \"double underscore\") are special methods in Python that have names starting and ending with two underscores, like __init__ or __str__. They are also often called \"magic methods.\"\n",
        "\n",
        "The key thing about dunder methods is that you rarely call them directly. Instead, they are automatically invoked by Python in response to certain actions or operations. They allow you to define how your custom objects behave with Python's built-in functions and operators.\n",
        "\n",
        "Here are a few common examples to illustrate:\n",
        "\n",
        "__init__: This is the most famous dunder method. It's the constructor for a class, and it's automatically called when you create a new object.\n",
        "\n"
      ],
      "metadata": {
        "id": "oMP9Eu3577s8"
      }
    },
    {
      "cell_type": "code",
      "source": [
        "class Dog:\n",
        "    def __init__(self, name):\n",
        "        self.name = name\n",
        "\n",
        "# Python calls the __init__ method automatically here\n",
        "my_dog = Dog(\"Fido\")"
      ],
      "metadata": {
        "id": "lO94xPQP8ERs"
      },
      "execution_count": 9,
      "outputs": []
    },
    {
      "cell_type": "code",
      "source": [],
      "metadata": {
        "id": "oCdTG_vU8Ghs"
      },
      "execution_count": null,
      "outputs": []
    },
    {
      "cell_type": "markdown",
      "source": [
        "__str__: This method is called when you use the str() function or print() on an object. It defines a user-friendly string representation of your object."
      ],
      "metadata": {
        "id": "NXHIicDJ8JmQ"
      }
    },
    {
      "cell_type": "code",
      "source": [
        "class Dog:\n",
        "    def __init__(self, name):\n",
        "        self.name = name\n",
        "\n",
        "    def __str__(self):\n",
        "        return f\"This is a dog named {self.name}.\"\n",
        "\n",
        "my_dog = Dog(\"Fido\")\n",
        "# This will now print \"This is a dog named Fido.\"\n",
        "print(my_dog)"
      ],
      "metadata": {
        "colab": {
          "base_uri": "https://localhost:8080/"
        },
        "id": "4Ik68N-x8K7Y",
        "outputId": "d0ad1fa3-b68f-4519-db3f-a64eaaf48d7b"
      },
      "execution_count": 10,
      "outputs": [
        {
          "output_type": "stream",
          "name": "stdout",
          "text": [
            "This is a dog named Fido.\n"
          ]
        }
      ]
    },
    {
      "cell_type": "code",
      "source": [],
      "metadata": {
        "id": "0ZCFe_pm8OL2"
      },
      "execution_count": null,
      "outputs": []
    },
    {
      "cell_type": "markdown",
      "source": [
        "__add__: This method is called when you use the + operator on your objects. You can use it to define what it means to \"add\" two of your custom objects together.\n",
        "\n",
        "In essence, dunder methods are a way to customize the behavior of your classes to make them work seamlessly with the rest of the Python language. They are a powerful tool for creating more intuitive and \"Pythonic\" code."
      ],
      "metadata": {
        "id": "unEGJnCi8PDW"
      }
    },
    {
      "cell_type": "code",
      "source": [],
      "metadata": {
        "id": "CN07Rx6D8SpG"
      },
      "execution_count": null,
      "outputs": []
    },
    {
      "cell_type": "markdown",
      "source": [
        "6. Explain the concept of inheritance in OOP."
      ],
      "metadata": {
        "id": "yDIM4eOW8TVt"
      }
    },
    {
      "cell_type": "code",
      "source": [],
      "metadata": {
        "id": "S-L0pC3i8XmF"
      },
      "execution_count": null,
      "outputs": []
    },
    {
      "cell_type": "markdown",
      "source": [
        "Inheritance is one of the fundamental concepts of Object-Oriented Programming (OOP) that allows a new class to inherit properties and behaviors from an existing class.\n",
        "\n",
        "Here's a breakdown:\n",
        "\n",
        "Parent Class / Superclass: This is the existing class that provides the base attributes and methods. Think of it as a generic, foundational blueprint.\n",
        "\n",
        "Child Class / Subclass: This is the new class that inherits from the parent. It automatically gets all the properties and methods of the parent class, and it can also add its own new, specific features.\n",
        "\n",
        "\n",
        "The core idea is to create an \"is-a\" relationship. For example:\n",
        "\n",
        "A Dog is an Animal.\n",
        "\n",
        "A Car is a Vehicle.\n",
        "\n",
        "A Manager is an Employee.\n",
        "\n",
        "By using inheritance, we can:\n",
        "\n",
        "Promote Code Reusability: You don't have to write the same code for every class. You can define common characteristics and behaviors in a parent class and then reuse that code in all the child classes.\n",
        "\n",
        "\n",
        "----> Establish a Hierarchy: It helps you organize your classes in a logical, hierarchical structure, which makes your code easier to understand and maintain.\n",
        "\n",
        "----> Specialize Functionality: Child classes can not only inherit from their parent but also override or extend the parent's methods to provide their own unique functionality. For example, a Dog class might inherit a make_sound() method from the Animal class but implement it to bark() specifically, while a Cat class would implement it to meow().\n",
        "\n",
        "\n",
        "\n",
        "\n",
        "\n",
        "\n"
      ],
      "metadata": {
        "id": "c61hwPXG8YAK"
      }
    },
    {
      "cell_type": "code",
      "source": [],
      "metadata": {
        "id": "dktbN3Vm8pav"
      },
      "execution_count": null,
      "outputs": []
    },
    {
      "cell_type": "markdown",
      "source": [
        "7.  What is polymorphism in OOP?"
      ],
      "metadata": {
        "id": "73n1VFhO87VA"
      }
    },
    {
      "cell_type": "code",
      "source": [],
      "metadata": {
        "id": "k8J4QJXm8_k_"
      },
      "execution_count": null,
      "outputs": []
    },
    {
      "cell_type": "markdown",
      "source": [
        "Polymorphism is the ability of an object to take on many forms. In OOP, this means that a single interface can be used for different underlying data types.\n",
        "\n",
        "Think of it as having one command that behaves differently depending on the object it's given.\n",
        "\n",
        "A simple analogy:\n",
        "\n",
        "Imagine a \"play\" button on different devices.\n",
        "\n",
        "When you press \"play\" on a music player, it plays a song.\n",
        "\n",
        "When you press \"play\" on a video player, it plays a movie.\n",
        "\n",
        "When you press \"play\" on a game console, it starts the game.\n",
        "\n",
        "The command (play()) is the same, but the action it performs is specific to the object it is called on. Polymorphism allows you to write code that can work with a variety of objects in a consistent way.\n",
        "\n",
        "\n",
        "\n",
        "\n",
        "\n",
        "\n"
      ],
      "metadata": {
        "id": "pNjsMAyT-Xrg"
      }
    },
    {
      "cell_type": "code",
      "source": [],
      "metadata": {
        "id": "lENEgCgS-ZSN"
      },
      "execution_count": null,
      "outputs": []
    },
    {
      "cell_type": "markdown",
      "source": [
        "8.  How is encapsulation achieved in Python?"
      ],
      "metadata": {
        "id": "AfPKduIM_t96"
      }
    },
    {
      "cell_type": "code",
      "source": [],
      "metadata": {
        "id": "S82-6iIA_vp7"
      },
      "execution_count": null,
      "outputs": []
    },
    {
      "cell_type": "markdown",
      "source": [
        "Encapsulation in Python is achieved by bundling data and the methods that operate on it within a class.\n",
        "\n",
        "While Python doesn't have strict private keywords, it uses naming conventions to achieve this:\n",
        "\n",
        "----> Single underscore (_): A convention to signal that a variable or method is intended for internal use (protected).\n",
        "\n",
        "----> Double underscore (__): Triggers name mangling, making a variable or method much harder to access from outside the class (private).\n",
        "\n",
        "This allows us to control how outside code interacts with an object's data, typically by using getter and setter methods to provide a public, controlled interface for accessing and modifying the data."
      ],
      "metadata": {
        "id": "FhOxbhmK_wOh"
      }
    },
    {
      "cell_type": "code",
      "source": [],
      "metadata": {
        "id": "m_RmZ8vL_zT1"
      },
      "execution_count": null,
      "outputs": []
    },
    {
      "cell_type": "markdown",
      "source": [
        "9.  What is a constructor in Python?"
      ],
      "metadata": {
        "id": "PuMxsWUO_8kU"
      }
    },
    {
      "cell_type": "code",
      "source": [],
      "metadata": {
        "id": "TqNf55Pb__-u"
      },
      "execution_count": null,
      "outputs": []
    },
    {
      "cell_type": "markdown",
      "source": [
        "In Python, a constructor is a special method used to initialize a newly created object.\n",
        "\n",
        "The main purpose of a constructor is to set up the initial state of an object by assigning values to its attributes.\n",
        "\n",
        "In Python, the constructor method is always named __init__ (double underscore, \"init,\" double underscore).\n",
        "\n",
        "Here's how it works:\n",
        "\n"
      ],
      "metadata": {
        "id": "wO1VLGpfAAex"
      }
    },
    {
      "cell_type": "code",
      "source": [
        "class Dog:\n",
        "    # This is the constructor\n",
        "    def __init__(self, name, age):\n",
        "        self.name = name  # Initialize the 'name' attribute\n",
        "        self.age = age    # Initialize the 'age' attribute\n",
        "\n",
        "# When you create a new Dog object, Python automatically calls __init__\n",
        "my_dog = Dog(\"Fido\", 5)\n",
        "\n",
        "# The object 'my_dog' is now initialized with a name and age.\n",
        "print(my_dog.name)  # Output: Fido\n",
        "print(my_dog.age)   # Output: 5"
      ],
      "metadata": {
        "colab": {
          "base_uri": "https://localhost:8080/"
        },
        "id": "InzqlexEBCk-",
        "outputId": "8ee4194f-bc2f-4e70-cffd-54ededd397df"
      },
      "execution_count": 16,
      "outputs": [
        {
          "output_type": "stream",
          "name": "stdout",
          "text": [
            "Fido\n",
            "5\n"
          ]
        }
      ]
    },
    {
      "cell_type": "code",
      "source": [],
      "metadata": {
        "id": "TdmBRNk_BEPF"
      },
      "execution_count": null,
      "outputs": []
    },
    {
      "cell_type": "markdown",
      "source": [
        "In short, the __init__ method is the first method that is automatically called when you create a new instance of a class, ensuring the object starts in a valid and well-defined state."
      ],
      "metadata": {
        "id": "Ksfr9g0XBIss"
      }
    },
    {
      "cell_type": "code",
      "source": [],
      "metadata": {
        "id": "-5J68Zp8BJSo"
      },
      "execution_count": null,
      "outputs": []
    },
    {
      "cell_type": "markdown",
      "source": [
        "10.  What are class and static methods in Python?"
      ],
      "metadata": {
        "id": "FwqEh5zCBKSa"
      }
    },
    {
      "cell_type": "code",
      "source": [],
      "metadata": {
        "id": "AQQ_6SWABPGm"
      },
      "execution_count": null,
      "outputs": []
    },
    {
      "cell_type": "markdown",
      "source": [
        "In Python, both class and static methods are defined within a class but are different from a regular \"instance method\" (the kind of method we've probably seen most often). They are distinguished by decorators and how they handle their first argument.\n",
        "\n",
        "Here's a simple breakdown:\n",
        "\n",
        "1. Class Methods (@classmethod)\n",
        "A class method is bound to the class itself, not to an instance of the class. It receives the class as its first argument, conventionally named cls.\n",
        "\n",
        "Decorator: You define it using the @classmethod decorator.\n",
        "\n",
        "First Argument: It takes cls as its first parameter, which refers to the class itself.\n",
        "\n",
        "Purpose: They are primarily used for methods that need to access or modify class-level attributes or for creating \"factory methods\" that return an instance of the class with a specific configuration. A common use case is creating alternative constructors.\n",
        "\n",
        "Example:\n",
        "\n"
      ],
      "metadata": {
        "id": "ynAXtzMsBP8h"
      }
    },
    {
      "cell_type": "code",
      "source": [
        "class Car:\n",
        "    wheels = 4  # A class attribute\n",
        "\n",
        "    @classmethod\n",
        "    def change_wheels(cls, new_number):\n",
        "        cls.wheels = new_number\n",
        "\n",
        "# We can call the class method on the class itself\n",
        "Car.change_wheels(6)\n",
        "\n",
        "# The class attribute has been modified\n",
        "print(Car.wheels)  # Output: 6"
      ],
      "metadata": {
        "colab": {
          "base_uri": "https://localhost:8080/"
        },
        "id": "wRG3iNmCBYHi",
        "outputId": "f9fd93f0-a3df-47ad-eb75-8ceab22569c4"
      },
      "execution_count": 17,
      "outputs": [
        {
          "output_type": "stream",
          "name": "stdout",
          "text": [
            "6\n"
          ]
        }
      ]
    },
    {
      "cell_type": "code",
      "source": [],
      "metadata": {
        "id": "Ix_BgNmXBaDk"
      },
      "execution_count": null,
      "outputs": []
    },
    {
      "cell_type": "markdown",
      "source": [
        "2. Static Methods (@staticmethod)\n",
        "A static method is essentially a regular function that is logically grouped within a class. It is not bound to either the class or an instance. It does not receive self or cls as its first argument.\n",
        "\n",
        "Decorator: You define it using the @staticmethod decorator.\n",
        "\n",
        "First Argument: It has no implicit first argument (like self or cls).\n",
        "\n",
        "Purpose: They are used for utility functions that are related to the class but do not need to access any class or instance data. They don't modify the state of the class or the object. They are simply for organization and namespacing.\n",
        "\n",
        "Example:"
      ],
      "metadata": {
        "id": "1f4ktWn8Bekq"
      }
    },
    {
      "cell_type": "code",
      "source": [
        "class Calculator:\n",
        "    @staticmethod\n",
        "    def add(x, y):\n",
        "        return x + y\n",
        "\n",
        "# We can call the static method on the class\n",
        "result = Calculator.add(5, 3)\n",
        "\n",
        "print(result)  # Output: 8"
      ],
      "metadata": {
        "colab": {
          "base_uri": "https://localhost:8080/"
        },
        "id": "wsg3QtjJBfRm",
        "outputId": "47b20282-520c-46be-f194-05da600243cf"
      },
      "execution_count": 18,
      "outputs": [
        {
          "output_type": "stream",
          "name": "stdout",
          "text": [
            "8\n"
          ]
        }
      ]
    },
    {
      "cell_type": "code",
      "source": [],
      "metadata": {
        "id": "CDk-sav6BhDn"
      },
      "execution_count": null,
      "outputs": []
    },
    {
      "cell_type": "markdown",
      "source": [
        "11.  What is method overloading in Python?"
      ],
      "metadata": {
        "id": "vTlhyL3KBpkG"
      }
    },
    {
      "cell_type": "code",
      "source": [],
      "metadata": {
        "id": "ofx0DK7dBwDi"
      },
      "execution_count": null,
      "outputs": []
    },
    {
      "cell_type": "markdown",
      "source": [
        "Method overloading is a feature in some programming languages where you can define multiple methods with the same name but with different parameters (number or type). The correct method to call is then determined by the arguments passed at the time of the call.\n",
        "\n",
        "Python does not support traditional method overloading in the same way as languages like Java or C++.\n",
        "\n",
        "If we define two methods with the same name in a Python class, the second one will simply override the first one.\n",
        "\n",
        "However, we can achieve similar functionality in Python using a few different techniques:\n",
        "\n",
        "---->Default Arguments: we can give a function's parameters default values, making them optional.\n",
        "\n",
        "---->Variable-length Arguments: we can use *args and **kwargs to accept an arbitrary number of arguments.\n",
        "\n",
        "---->Type Checking: we can check the type of the arguments inside the method and have different logic for each type.\n",
        "\n",
        "\n",
        "\n",
        "\n",
        "\n",
        "\n"
      ],
      "metadata": {
        "id": "yWJ57-1XBwrq"
      }
    },
    {
      "cell_type": "code",
      "source": [],
      "metadata": {
        "id": "p-OmGogTCBhw"
      },
      "execution_count": null,
      "outputs": []
    },
    {
      "cell_type": "markdown",
      "source": [
        "12.  What is method overriding in OOP?"
      ],
      "metadata": {
        "id": "WGRiMFamCCWy"
      }
    },
    {
      "cell_type": "code",
      "source": [],
      "metadata": {
        "id": "VI92XdeGCHef"
      },
      "execution_count": null,
      "outputs": []
    },
    {
      "cell_type": "markdown",
      "source": [
        "Method overriding is when a child class provides its own specific implementation for a method that is already defined in its parent class. This allows the child class to have a unique behavior while still following the same method signature (name and parameters)."
      ],
      "metadata": {
        "id": "SjsGwn9cCH_G"
      }
    },
    {
      "cell_type": "code",
      "source": [
        "class Animal:\n",
        "    def speak(self):\n",
        "        print(\"The animal makes a sound.\")\n",
        "\n",
        "class Dog(Animal):\n",
        "    def speak(self):\n",
        "        print(\"The dog barks.\")\n",
        "\n",
        "# Creating an object of the child class\n",
        "my_dog = Dog()\n",
        "my_dog.speak()  # Output: The dog barks.\n",
        "\n",
        "# The `speak` method in the Dog class has overridden the one from the Animal class.\n",
        "# If we called `speak` on a generic Animal object, it would give a different result."
      ],
      "metadata": {
        "colab": {
          "base_uri": "https://localhost:8080/"
        },
        "id": "cIxY9GYZCKYa",
        "outputId": "40fbcc78-bfc7-4422-a60a-609315e81f25"
      },
      "execution_count": 19,
      "outputs": [
        {
          "output_type": "stream",
          "name": "stdout",
          "text": [
            "The dog barks.\n"
          ]
        }
      ]
    },
    {
      "cell_type": "code",
      "source": [],
      "metadata": {
        "id": "VgpQOYbZCL3T"
      },
      "execution_count": 19,
      "outputs": []
    },
    {
      "cell_type": "markdown",
      "source": [
        "13. What is a property decorator in Python?"
      ],
      "metadata": {
        "id": "IopfsFSaCOSQ"
      }
    },
    {
      "cell_type": "code",
      "source": [],
      "metadata": {
        "id": "V8Zx0bbsCSw7"
      },
      "execution_count": null,
      "outputs": []
    },
    {
      "cell_type": "markdown",
      "source": [
        "A property decorator (@property) in Python is a built-in decorator that allows you to define methods within a class that can be accessed like attributes, without the need for parentheses.\n",
        "\n",
        "It's a \"Pythonic\" way to implement getters, setters, and deleters, which are methods used to control access to an object's data.\n",
        "\n",
        "Here's the key takeaway: it lets we add custom logic, like data validation or computed values, \"behind the scenes\" of a simple attribute access, while keeping your code clean and readable.\n",
        "\n",
        "Without @property: my_object.get_name()\n",
        "\n",
        "\n",
        "\n",
        "With @property: my_object.name\n",
        "\n",
        "\n",
        "\n",
        "\n",
        "\n",
        "\n"
      ],
      "metadata": {
        "id": "F0-76u55CWeY"
      }
    },
    {
      "cell_type": "code",
      "source": [
        "class Circle:\n",
        "    def __init__(self, radius):\n",
        "        self._radius = radius\n",
        "\n",
        "    @property\n",
        "    def radius(self):\n",
        "        # This is the \"getter\" method.\n",
        "        # It's called when you access `my_circle.radius`.\n",
        "        return self._radius\n",
        "\n",
        "    @radius.setter\n",
        "    def radius(self, value):\n",
        "        # This is the \"setter\" method.\n",
        "        # It's called when you do `my_circle.radius = new_value`.\n",
        "        if value < 0:\n",
        "            raise ValueError(\"Radius cannot be negative\")\n",
        "        self._radius = value\n",
        "\n",
        "# Using the property\n",
        "my_circle = Circle(5)\n",
        "print(my_circle.radius)  # Accesses the @property method (getter)\n",
        "# Output: 5\n",
        "\n",
        "my_circle.radius = 10    # Accesses the @radius.setter method (setter)\n",
        "print(my_circle.radius)\n",
        "# Output: 10\n",
        "\n",
        "# my_circle.radius = -1  # This would raise a ValueError due to the setter's logic."
      ],
      "metadata": {
        "colab": {
          "base_uri": "https://localhost:8080/"
        },
        "id": "AuNHXcXzCafw",
        "outputId": "b1f15cdd-98b1-4a99-ce17-eb4210099c84"
      },
      "execution_count": 20,
      "outputs": [
        {
          "output_type": "stream",
          "name": "stdout",
          "text": [
            "5\n",
            "10\n"
          ]
        }
      ]
    },
    {
      "cell_type": "code",
      "source": [],
      "metadata": {
        "id": "wT4SGEgsCcn6"
      },
      "execution_count": 20,
      "outputs": []
    },
    {
      "cell_type": "markdown",
      "source": [
        "14.  Why is polymorphism important in OOP?"
      ],
      "metadata": {
        "id": "Lh2n5DxMCdhN"
      }
    },
    {
      "cell_type": "code",
      "source": [],
      "metadata": {
        "id": "Vwa1jIfdCl6B"
      },
      "execution_count": null,
      "outputs": []
    },
    {
      "cell_type": "markdown",
      "source": [
        "Polymorphism is important in OOP because it allows us to write more flexible and reusable code. It enables you to create a single interface or a single function that can work with a variety of different objects, each with its own unique implementation. This reduces complexity and makes our code easier to maintain and extend."
      ],
      "metadata": {
        "id": "xvYUXW3NCmgf"
      }
    },
    {
      "cell_type": "code",
      "source": [
        "class Bird:\n",
        "    def fly(self):\n",
        "        print(\"Bird is flying.\")\n",
        "\n",
        "class Plane:\n",
        "    def fly(self):\n",
        "        print(\"Plane is flying.\")\n",
        "\n",
        "def make_it_fly(obj):\n",
        "    # This single function can work with different objects\n",
        "    obj.fly()\n",
        "\n",
        "bird = Bird()\n",
        "plane = Plane()\n",
        "\n",
        "make_it_fly(bird)  # Output: Bird is flying.\n",
        "make_it_fly(plane) # Output: Plane is flying.\n",
        "\n",
        "# The `make_it_fly` function doesn't need to know if the object is a Bird or a Plane.\n",
        "# It just knows that the object has a `fly()` method, which is the essence of polymorphism."
      ],
      "metadata": {
        "colab": {
          "base_uri": "https://localhost:8080/"
        },
        "id": "476CH9lMCpAB",
        "outputId": "903d988d-9295-48b0-f53d-19dd735ee0dc"
      },
      "execution_count": 21,
      "outputs": [
        {
          "output_type": "stream",
          "name": "stdout",
          "text": [
            "Bird is flying.\n",
            "Plane is flying.\n"
          ]
        }
      ]
    },
    {
      "cell_type": "code",
      "source": [],
      "metadata": {
        "id": "W2lujLZLCwwo"
      },
      "execution_count": null,
      "outputs": []
    },
    {
      "cell_type": "markdown",
      "source": [
        "15.  What is an abstract class in Python?"
      ],
      "metadata": {
        "id": "TjqI3he-Cxds"
      }
    },
    {
      "cell_type": "code",
      "source": [],
      "metadata": {
        "id": "Vu4pceUSC7vj"
      },
      "execution_count": null,
      "outputs": []
    },
    {
      "cell_type": "markdown",
      "source": [
        "An abstract class in Python is a class that cannot be instantiated on its own. It serves as a blueprint for other classes by defining a common interface, which includes one or more abstract methods—methods that are declared but have no implementation. Any class that inherits from an abstract class must provide its own implementation for all of these abstract methods. This enforces a consistent structure across all its child classes."
      ],
      "metadata": {
        "id": "2LoO81t0C8F3"
      }
    },
    {
      "cell_type": "code",
      "source": [
        "from abc import ABC, abstractmethod\n",
        "\n",
        "class Vehicle(ABC):\n",
        "    @abstractmethod\n",
        "    def start_engine(self):\n",
        "        pass  # No implementation here\n",
        "\n",
        "class Car(Vehicle):\n",
        "    def start_engine(self):\n",
        "        print(\"The car engine starts with a key.\")\n",
        "\n",
        "# This would cause a TypeError because Vehicle is an abstract class:\n",
        "# my_vehicle = Vehicle()\n",
        "\n",
        "my_car = Car()\n",
        "my_car.start_engine()  # Output: The car engine starts with a key.\n",
        "\n",
        "# If we had another class like \"ElectricCar\" inheriting from Vehicle,\n",
        "# it would also be required to implement the `start_engine` method."
      ],
      "metadata": {
        "colab": {
          "base_uri": "https://localhost:8080/"
        },
        "id": "4otfj4CtDD6O",
        "outputId": "2727dae8-0061-438d-9796-81951759ac42"
      },
      "execution_count": 22,
      "outputs": [
        {
          "output_type": "stream",
          "name": "stdout",
          "text": [
            "The car engine starts with a key.\n"
          ]
        }
      ]
    },
    {
      "cell_type": "code",
      "source": [],
      "metadata": {
        "id": "7T3ochC4DG8x"
      },
      "execution_count": null,
      "outputs": []
    },
    {
      "cell_type": "markdown",
      "source": [
        "16.  What are the advantages of OOP?"
      ],
      "metadata": {
        "id": "nBjLA472DINo"
      }
    },
    {
      "cell_type": "code",
      "source": [],
      "metadata": {
        "id": "Ml_YBwl5DLpI"
      },
      "execution_count": null,
      "outputs": []
    },
    {
      "cell_type": "markdown",
      "source": [
        "The main advantages of OOP are:\n",
        "\n",
        "---->Code Reusability: Inheritance allows us to reuse code, saving time and reducing redundancy.\n",
        "\n",
        "---->Modularity and Organization: Breaking down a program into self-contained objects makes the code easier to manage, understand, and debug.\n",
        "\n",
        "---->Data Security: Encapsulation protects data from accidental modification, leading to more secure and reliable code.\n",
        "\n",
        "---->Flexibility: Polymorphism allows us to write flexible code that can work with different types of objects, making it easier to add new features or modify existing ones.\n",
        "\n",
        "---->Easier Troubleshooting: Because objects are self-contained, it's easier to pinpoint and fix bugs within a specific object without affecting the rest of the program.\n",
        "\n",
        "\n",
        "\n",
        "\n",
        "\n",
        "\n",
        "\n"
      ],
      "metadata": {
        "id": "zXFfd9S7DME1"
      }
    },
    {
      "cell_type": "code",
      "source": [
        "# Modularity and Reusability (via Inheritance)\n",
        "class Employee: # Parent class\n",
        "    def __init__(self, name, employee_id):\n",
        "        self.name = name\n",
        "        self.employee_id = employee_id\n",
        "\n",
        "    def display_info(self):\n",
        "        print(f\"Name: {self.name}, ID: {self.employee_id}\")\n",
        "\n",
        "class Manager(Employee): # Child class inheriting from Employee\n",
        "    def __init__(self, name, employee_id, team_size):\n",
        "        super().__init__(name, employee_id)\n",
        "        self.team_size = team_size\n",
        "\n",
        "    def display_info(self):\n",
        "        # We can reuse the parent's method, or\n",
        "        # override it to add more specific information.\n",
        "        super().display_info()\n",
        "        print(f\"Team Size: {self.team_size}\")\n",
        "\n",
        "# Data Security (via Encapsulation)\n",
        "class BankAccount:\n",
        "    def __init__(self, balance):\n",
        "        self.__balance = balance # Private attribute\n",
        "\n",
        "    def get_balance(self): # Controlled access (getter)\n",
        "        return self.__balance\n",
        "\n",
        "# Flexibility (via Polymorphism)\n",
        "class Developer:\n",
        "    def work(self):\n",
        "        print(\"Writing code.\")\n",
        "\n",
        "class Designer:\n",
        "    def work(self):\n",
        "        print(\"Creating design mockups.\")\n",
        "\n",
        "def get_job_done(person):\n",
        "    # This single function works with both Developer and Designer objects\n",
        "    person.work()\n",
        "\n",
        "# --- Using the classes ---\n",
        "manager = Manager(\"Alice\", 101, 5)\n",
        "manager.display_info()\n",
        "# Output:\n",
        "# Name: Alice, ID: 101\n",
        "# Team Size: 5\n",
        "\n",
        "account = BankAccount(1000)\n",
        "# print(account.__balance) would cause an error, demonstrating data security.\n",
        "print(f\"Current balance: {account.get_balance()}\") # Output: 1000\n",
        "\n",
        "dev = Developer()\n",
        "designer = Designer()\n",
        "get_job_done(dev)     # Output: Writing code.\n",
        "get_job_done(designer)  # Output: Creating design mockups."
      ],
      "metadata": {
        "colab": {
          "base_uri": "https://localhost:8080/"
        },
        "id": "tI46LIsyDiuO",
        "outputId": "30395ba2-c3a9-47ea-cf24-21c3c0360a21"
      },
      "execution_count": 23,
      "outputs": [
        {
          "output_type": "stream",
          "name": "stdout",
          "text": [
            "Name: Alice, ID: 101\n",
            "Team Size: 5\n",
            "Current balance: 1000\n",
            "Writing code.\n",
            "Creating design mockups.\n"
          ]
        }
      ]
    },
    {
      "cell_type": "code",
      "source": [],
      "metadata": {
        "id": "MiH6f-nlDku-"
      },
      "execution_count": 23,
      "outputs": []
    },
    {
      "cell_type": "markdown",
      "source": [
        "17.  What is the difference between a class variable and an instance variable?"
      ],
      "metadata": {
        "id": "YgSBjiBmDmJn"
      }
    },
    {
      "cell_type": "code",
      "source": [],
      "metadata": {
        "id": "YU3QVYgLDppr"
      },
      "execution_count": null,
      "outputs": []
    },
    {
      "cell_type": "markdown",
      "source": [
        "---->Class variables are shared by all instances of a class. They are defined directly inside the class but outside of any methods. Changing a class variable affects all objects.\n",
        "\n",
        "---->Instance variables are unique to each instance of a class. They are defined inside a method (typically the __init__ constructor) using self. Changing an instance variable only affects that specific object."
      ],
      "metadata": {
        "id": "HGNwiPPuDzOf"
      }
    },
    {
      "cell_type": "code",
      "source": [
        "class Dog:\n",
        "    # This is a class variable. It's the same for all dogs.\n",
        "    species = \"Canis familiaris\"\n",
        "\n",
        "    def __init__(self, name, age):\n",
        "        # These are instance variables. They are unique to each dog.\n",
        "        self.name = name\n",
        "        self.age = age\n",
        "\n",
        "# Create two different Dog instances\n",
        "dog1 = Dog(\"Fido\", 3)\n",
        "dog2 = Dog(\"Buddy\", 5)\n",
        "\n",
        "# Both dogs share the same class variable\n",
        "print(dog1.species)  # Output: Canis familiaris\n",
        "print(dog2.species)  # Output: Canis familiaris\n",
        "\n",
        "# Each dog has its own unique instance variables\n",
        "print(dog1.name)     # Output: Fido\n",
        "print(dog2.name)     # Output: Buddy\n",
        "\n",
        "# If we change the class variable, it changes for all instances\n",
        "Dog.species = \"Domestic dog\"\n",
        "print(dog1.species)  # Output: Domestic dog"
      ],
      "metadata": {
        "colab": {
          "base_uri": "https://localhost:8080/"
        },
        "id": "9PSjwhYOD4cP",
        "outputId": "c37a3cf5-7920-4178-caf8-7a70cf16ead7"
      },
      "execution_count": 24,
      "outputs": [
        {
          "output_type": "stream",
          "name": "stdout",
          "text": [
            "Canis familiaris\n",
            "Canis familiaris\n",
            "Fido\n",
            "Buddy\n",
            "Domestic dog\n"
          ]
        }
      ]
    },
    {
      "cell_type": "code",
      "source": [],
      "metadata": {
        "id": "L4fnp3PgEAgF"
      },
      "execution_count": null,
      "outputs": []
    },
    {
      "cell_type": "markdown",
      "source": [
        "18.  What is multiple inheritance in Python?"
      ],
      "metadata": {
        "id": "qgWeU1sqECKp"
      }
    },
    {
      "cell_type": "code",
      "source": [],
      "metadata": {
        "id": "4u-vD4YkEDbQ"
      },
      "execution_count": null,
      "outputs": []
    },
    {
      "cell_type": "markdown",
      "source": [
        "Multiple inheritance is a feature in Python that allows a class to inherit from more than one parent class. This means a single child class can combine the attributes and methods of several parent classes, effectively creating a new class with the functionalities of all its ancestors."
      ],
      "metadata": {
        "id": "RP2EoMQ7EEBz"
      }
    },
    {
      "cell_type": "code",
      "source": [
        "class Swimmer:\n",
        "    def swim(self):\n",
        "        print(\"I can swim.\")\n",
        "\n",
        "class Runner:\n",
        "    def run(self):\n",
        "        print(\"I can run.\")\n",
        "\n",
        "# The child class Athlete inherits from both Swimmer and Runner\n",
        "class Athlete(Swimmer, Runner):\n",
        "    pass\n",
        "\n",
        "# Create an object of the Athlete class\n",
        "person = Athlete()\n",
        "\n",
        "# The object has access to methods from both parent classes\n",
        "person.swim()  # Output: I can swim.\n",
        "person.run()   # Output: I can run."
      ],
      "metadata": {
        "colab": {
          "base_uri": "https://localhost:8080/"
        },
        "id": "DLgYW9NHEL4d",
        "outputId": "0bb03e2c-96a7-4145-dfc2-9f894e535005"
      },
      "execution_count": 26,
      "outputs": [
        {
          "output_type": "stream",
          "name": "stdout",
          "text": [
            "I can swim.\n",
            "I can run.\n"
          ]
        }
      ]
    },
    {
      "cell_type": "code",
      "source": [],
      "metadata": {
        "id": "VKn3xqCFEPVx"
      },
      "execution_count": null,
      "outputs": []
    },
    {
      "cell_type": "markdown",
      "source": [
        "19.  Explain the purpose of ‘’__str__’ and ‘__repr__’ ‘ methods in Python."
      ],
      "metadata": {
        "id": "__atR7wEEQQb"
      }
    },
    {
      "cell_type": "code",
      "source": [],
      "metadata": {
        "id": "FHLeNJTgETmk"
      },
      "execution_count": null,
      "outputs": []
    },
    {
      "cell_type": "markdown",
      "source": [
        "----> __str__ is for a user-friendly, readable string representation of an object. It's what's shown when you use print() or str().\n",
        "\n",
        "----> __repr__ is for an unambiguous, developer-oriented string representation of an object. Its goal is to be so clear that, ideally, a developer could use its output to recreate the object. It's what's shown when you just type the object's name in the Python interpreter."
      ],
      "metadata": {
        "id": "4Sz2wLxZEUP2"
      }
    },
    {
      "cell_type": "code",
      "source": [
        "class Point:\n",
        "    def __init__(self, x, y):\n",
        "        self.x = x\n",
        "        self.y = y\n",
        "\n",
        "    def __str__(self):\n",
        "        # A user-friendly representation\n",
        "        return f\"({self.x}, {self.y})\"\n",
        "\n",
        "    def __repr__(self):\n",
        "        # A developer-friendly, unambiguous representation\n",
        "        return f\"Point(x={self.x}, y={self.y})\"\n",
        "\n",
        "p = Point(3, 4)\n",
        "\n",
        "# Using __str__ (user-friendly)\n",
        "print(p)      # Output: (3, 4)\n",
        "print(str(p)) # Output: (3, 4)\n",
        "\n",
        "# Using __repr__ (developer-friendly)\n",
        "print(repr(p))  # Output: Point(x=3, y=4)\n",
        "\n",
        "# In the Python interpreter, this is the default output for an object:\n",
        "# >>> p\n",
        "# Point(x=3, y=4)"
      ],
      "metadata": {
        "colab": {
          "base_uri": "https://localhost:8080/"
        },
        "id": "Lu6kQFJYEki6",
        "outputId": "25ed3730-5db2-43ff-e0fe-26b31e88e60d"
      },
      "execution_count": 27,
      "outputs": [
        {
          "output_type": "stream",
          "name": "stdout",
          "text": [
            "(3, 4)\n",
            "(3, 4)\n",
            "Point(x=3, y=4)\n"
          ]
        }
      ]
    },
    {
      "cell_type": "code",
      "source": [],
      "metadata": {
        "id": "AoJ5cVIFEoWL"
      },
      "execution_count": null,
      "outputs": []
    },
    {
      "cell_type": "markdown",
      "source": [
        "20.  What is the significance of the ‘super()’ function in Python?"
      ],
      "metadata": {
        "id": "FxK82rkFEpMc"
      }
    },
    {
      "cell_type": "code",
      "source": [],
      "metadata": {
        "id": "doSNLzYfEsIR"
      },
      "execution_count": null,
      "outputs": []
    },
    {
      "cell_type": "markdown",
      "source": [
        "The `super()` function is used in a child class to call a method from its immediate parent class. Its main significance is to allow us to **access and execute methods from a parent class**, especially when a method has been **overridden** in the child class. This is crucial for inheriting and extending the behavior of parent classes in a controlled and organized way, particularly in multiple inheritance scenarios."
      ],
      "metadata": {
        "id": "waUfSMmVEs6i"
      }
    },
    {
      "cell_type": "code",
      "source": [
        "class Animal:\n",
        "    def __init__(self, name):\n",
        "        self.name = name\n",
        "\n",
        "    def speak(self):\n",
        "        print(\"I am an animal.\")\n",
        "\n",
        "class Dog(Animal):\n",
        "    def __init__(self, name, breed):\n",
        "        # Call the parent's __init__ method to initialize the 'name' attribute\n",
        "        super().__init__(name)\n",
        "        self.breed = breed\n",
        "\n",
        "    def speak(self):\n",
        "        # Call the parent's speak method first\n",
        "        super().speak()\n",
        "        # Then add the dog's specific behavior\n",
        "        print(\"I am also a dog and I bark.\")\n",
        "\n",
        "my_dog = Dog(\"Fido\", \"Golden Retriever\")\n",
        "\n",
        "# The Dog's speak method calls the Animal's speak method first\n",
        "my_dog.speak()\n",
        "# Output:\n",
        "# I am an animal.\n",
        "# I am also a dog and I bark."
      ],
      "metadata": {
        "colab": {
          "base_uri": "https://localhost:8080/"
        },
        "id": "V-nOZ4WFE2rN",
        "outputId": "d64afc7b-f6ac-46ef-fe44-7be8d7bbba84"
      },
      "execution_count": 28,
      "outputs": [
        {
          "output_type": "stream",
          "name": "stdout",
          "text": [
            "I am an animal.\n",
            "I am also a dog and I bark.\n"
          ]
        }
      ]
    },
    {
      "cell_type": "code",
      "source": [],
      "metadata": {
        "id": "SgsWccx1E4h9"
      },
      "execution_count": null,
      "outputs": []
    },
    {
      "cell_type": "markdown",
      "source": [
        "21.  What is the significance of the __del__ method in Python?"
      ],
      "metadata": {
        "id": "PsBovqJhE5Wx"
      }
    },
    {
      "cell_type": "code",
      "source": [],
      "metadata": {
        "id": "FmhHZuBeFFio"
      },
      "execution_count": null,
      "outputs": []
    },
    {
      "cell_type": "markdown",
      "source": [
        "The `__del__` method, also known as the destructor, is a special method in Python that is called when an object is about to be destroyed.\n",
        "\n",
        "Its main significance is to provide a way to perform **cleanup actions** for an object before its memory is reclaimed by the garbage collector. This is particularly useful for releasing external resources that the object might be holding, such as:\n",
        "\n",
        "* Closing a file handle.\n",
        "* Terminating a network connection.\n",
        "* Disconnecting from a database.\n",
        "\n",
        "However, it's important to note that we should use `__del__` with caution because Python's garbage collection is not always predictable. The `__del__` method is **not guaranteed to be called** at a specific time, or even at all if the program exits abnormally. For this reason, it is generally recommended to use more reliable methods for resource management, such as the `with` statement and context managers."
      ],
      "metadata": {
        "id": "zZrkf29PFHIY"
      }
    },
    {
      "cell_type": "code",
      "source": [
        "import time\n",
        "\n",
        "class FileHandler:\n",
        "    def __init__(self, filename):\n",
        "        self.file = open(filename, 'w')\n",
        "        print(f\"File '{filename}' opened.\")\n",
        "\n",
        "    def __del__(self):\n",
        "        # This is the destructor. It's called when the object is destroyed.\n",
        "        print(f\"Closing file...\")\n",
        "        self.file.close()\n",
        "        print(\"File closed.\")\n",
        "\n",
        "# Create an object\n",
        "handler = FileHandler(\"example.txt\")\n",
        "\n",
        "# The program continues...\n",
        "time.sleep(1)\n",
        "\n",
        "# When the object 'handler' goes out of scope and is garbage collected,\n",
        "# the __del__ method is called.\n",
        "# You will see \"Closing file...\" and \"File closed.\" printed.\n",
        "# The timing of this is not precise.\n",
        "del handler\n",
        "time.sleep(1)\n",
        "print(\"End of script.\")"
      ],
      "metadata": {
        "colab": {
          "base_uri": "https://localhost:8080/"
        },
        "id": "DfQj037_FQXq",
        "outputId": "065d715c-df3c-47f0-eead-827907ea3ccc"
      },
      "execution_count": 29,
      "outputs": [
        {
          "output_type": "stream",
          "name": "stdout",
          "text": [
            "File 'example.txt' opened.\n",
            "Closing file...\n",
            "File closed.\n",
            "End of script.\n"
          ]
        }
      ]
    },
    {
      "cell_type": "code",
      "source": [],
      "metadata": {
        "id": "mwy7xjRlFQ17"
      },
      "execution_count": null,
      "outputs": []
    },
    {
      "cell_type": "markdown",
      "source": [
        "22.  What is the difference between @staticmethod and @classmethod in Python?"
      ],
      "metadata": {
        "id": "NdkLFJdGFR3Z"
      }
    },
    {
      "cell_type": "code",
      "source": [],
      "metadata": {
        "id": "r-FdQLlFFVfo"
      },
      "execution_count": null,
      "outputs": []
    },
    {
      "cell_type": "markdown",
      "source": [
        "* `@classmethod` is bound to the **class** and receives the class itself (`cls`) as its first argument. It can access and modify class-level attributes, and is often used for \"factory methods\" to create objects.\n",
        "\n",
        "* `@staticmethod` is not bound to either the class or an instance. It's essentially a regular function that is logically grouped within the class, but it has no implicit first argument (`self` or `cls`) and cannot access or modify class or instance data. It is primarily used for utility functions."
      ],
      "metadata": {
        "id": "Ze5mLTS8Fa6h"
      }
    },
    {
      "cell_type": "code",
      "source": [
        "class MyClass:\n",
        "    class_variable = 10\n",
        "\n",
        "    def __init__(self):\n",
        "        self.instance_variable = 5\n",
        "\n",
        "    @classmethod\n",
        "    def change_class_variable(cls, new_value):\n",
        "        # This method is bound to the class itself.\n",
        "        # It can access and modify class-level data.\n",
        "        print(f\"Old class variable: {cls.class_variable}\")\n",
        "        cls.class_variable = new_value\n",
        "        print(f\"New class variable: {cls.class_variable}\")\n",
        "\n",
        "    @staticmethod\n",
        "    def show_message():\n",
        "        # This is a static method. It has no access to `self` or `cls`.\n",
        "        # It's just a regular function logically grouped with the class.\n",
        "        print(\"This is a static method message.\")\n",
        "\n",
        "# Using the class method\n",
        "MyClass.change_class_variable(20)  # Output: Old class variable: 10, New class variable: 20\n",
        "\n",
        "# We can call the static method on the class or an instance,\n",
        "# but it behaves the same way.\n",
        "MyClass.show_message()  # Output: This is a static method message.\n",
        "instance = MyClass()\n",
        "instance.show_message() # Output: This is a static method message."
      ],
      "metadata": {
        "colab": {
          "base_uri": "https://localhost:8080/"
        },
        "id": "YASXxPVOFdSH",
        "outputId": "86a12200-191c-47f2-dc7d-c0cb530ba340"
      },
      "execution_count": 30,
      "outputs": [
        {
          "output_type": "stream",
          "name": "stdout",
          "text": [
            "Old class variable: 10\n",
            "New class variable: 20\n",
            "This is a static method message.\n",
            "This is a static method message.\n"
          ]
        }
      ]
    },
    {
      "cell_type": "code",
      "source": [],
      "metadata": {
        "id": "vMgZi-xQFfIr"
      },
      "execution_count": null,
      "outputs": []
    },
    {
      "cell_type": "markdown",
      "source": [
        "23.  How does polymorphism work in Python with inheritance?"
      ],
      "metadata": {
        "id": "AiElZTadFf7i"
      }
    },
    {
      "cell_type": "code",
      "source": [],
      "metadata": {
        "id": "47uWeEUmFkIA"
      },
      "execution_count": null,
      "outputs": []
    },
    {
      "cell_type": "markdown",
      "source": [
        "Polymorphism works with inheritance in Python by allowing a child class to **override** a method from its parent class. This means that even if a variable is treated as a generic parent-class type, the specific, overridden method of the child object will be called at runtime. This \"duck typing\" approach lets you create a common interface across a class hierarchy, enabling a single function to work with any of the child objects without needing to know their specific type."
      ],
      "metadata": {
        "id": "cth4Q5_SFksi"
      }
    },
    {
      "cell_type": "code",
      "source": [
        "class Animal:\n",
        "    def speak(self):\n",
        "        # A generic method in the parent class\n",
        "        raise NotImplementedError(\"Subclass must implement abstract method\")\n",
        "\n",
        "class Dog(Animal):\n",
        "    def speak(self):\n",
        "        # The child class overrides the parent's method\n",
        "        return \"Woof!\"\n",
        "\n",
        "class Cat(Animal):\n",
        "    def speak(self):\n",
        "        # Another child class with its own specific implementation\n",
        "        return \"Meow!\"\n",
        "\n",
        "def animal_sound(animal):\n",
        "    # This single function works with any object that has a 'speak' method.\n",
        "    return animal.speak()\n",
        "\n",
        "dog = Dog()\n",
        "cat = Cat()\n",
        "\n",
        "# The same function call results in different behavior\n",
        "print(animal_sound(dog)) # Output: Woof!\n",
        "print(animal_sound(cat)) # Output: Meow!"
      ],
      "metadata": {
        "colab": {
          "base_uri": "https://localhost:8080/"
        },
        "id": "0et5JA5NFr0T",
        "outputId": "f131732f-1d3a-417f-abc5-97d31dff55e4"
      },
      "execution_count": 31,
      "outputs": [
        {
          "output_type": "stream",
          "name": "stdout",
          "text": [
            "Woof!\n",
            "Meow!\n"
          ]
        }
      ]
    },
    {
      "cell_type": "code",
      "source": [],
      "metadata": {
        "id": "Wuqmxyi5FtXF"
      },
      "execution_count": null,
      "outputs": []
    },
    {
      "cell_type": "markdown",
      "source": [
        "24.  What is method chaining in Python OOP?"
      ],
      "metadata": {
        "id": "2uwJEKlKFut7"
      }
    },
    {
      "cell_type": "code",
      "source": [],
      "metadata": {
        "id": "xEUQyWcTFyM2"
      },
      "execution_count": null,
      "outputs": []
    },
    {
      "cell_type": "markdown",
      "source": [
        "Method chaining is a programming technique where we can call multiple methods on an object in a single, sequential statement. It works by having each method return the object itself (`return self`), which allows the next method in the chain to be called immediately. This creates a concise and readable flow of operations on a single object."
      ],
      "metadata": {
        "id": "TWIBAdeUFzDQ"
      }
    },
    {
      "cell_type": "code",
      "source": [
        "class Calculator:\n",
        "    def __init__(self):\n",
        "        self.result = 0\n",
        "\n",
        "    def add(self, num):\n",
        "        self.result += num\n",
        "        return self  # Return the object itself\n",
        "\n",
        "    def subtract(self, num):\n",
        "        self.result -= num\n",
        "        return self  # Return the object itself\n",
        "\n",
        "    def get_result(self):\n",
        "        return self.result\n",
        "\n",
        "# Chaining the methods together in a single line\n",
        "calc = Calculator()\n",
        "final_result = calc.add(10).subtract(5).add(3).get_result()\n",
        "\n",
        "print(final_result)  # Output: 8\n",
        "# The statement 'calc.add(10)' returns 'calc', so we can immediately call '.subtract(5)' on it, and so on."
      ],
      "metadata": {
        "colab": {
          "base_uri": "https://localhost:8080/"
        },
        "id": "xbt2hBh0F6YA",
        "outputId": "41bf8332-3574-418a-ab40-cdf4c852d4f6"
      },
      "execution_count": 32,
      "outputs": [
        {
          "output_type": "stream",
          "name": "stdout",
          "text": [
            "8\n"
          ]
        }
      ]
    },
    {
      "cell_type": "code",
      "source": [],
      "metadata": {
        "id": "xh8TkpESGBmI"
      },
      "execution_count": null,
      "outputs": []
    },
    {
      "cell_type": "markdown",
      "source": [
        "25.  What is the purpose of the __call__ method in Python?"
      ],
      "metadata": {
        "id": "2u687zFKGCgR"
      }
    },
    {
      "cell_type": "code",
      "source": [],
      "metadata": {
        "id": "V-0ttw1aGG2_"
      },
      "execution_count": null,
      "outputs": []
    },
    {
      "cell_type": "markdown",
      "source": [
        "The `__call__` method allows an object to be treated as if it were a function. When you define `__call__` in a class, we can \"call\" an instance of that class using parentheses `()`, and the `__call__` method will be executed. This is useful for creating objects that have state but can be used with a simple, function-like syntax."
      ],
      "metadata": {
        "id": "zIYaafsoGGW9"
      }
    },
    {
      "cell_type": "code",
      "source": [
        "class Multiplier:\n",
        "    def __init__(self, factor):\n",
        "        self.factor = factor\n",
        "\n",
        "    def __call__(self, number):\n",
        "        # This method is executed when the object is \"called\"\n",
        "        return self.factor * number\n",
        "\n",
        "# Create an instance of the Multiplier class\n",
        "double = Multiplier(2)\n",
        "\n",
        "# We can now \"call\" the 'double' object like a function\n",
        "result1 = double(10)\n",
        "print(result1)  # Output: 20\n",
        "\n",
        "triple = Multiplier(3)\n",
        "result2 = triple(10)\n",
        "print(result2)  # Output: 30"
      ],
      "metadata": {
        "colab": {
          "base_uri": "https://localhost:8080/"
        },
        "id": "PSotk5saGPWP",
        "outputId": "5c459702-7b4d-4102-9801-7f26b523c1db"
      },
      "execution_count": 33,
      "outputs": [
        {
          "output_type": "stream",
          "name": "stdout",
          "text": [
            "20\n",
            "30\n"
          ]
        }
      ]
    },
    {
      "cell_type": "code",
      "source": [],
      "metadata": {
        "id": "YJO9fzDLGRA4"
      },
      "execution_count": null,
      "outputs": []
    },
    {
      "cell_type": "markdown",
      "source": [
        "#Practical Questions\n"
      ],
      "metadata": {
        "id": "pw8GGGd-GRt4"
      }
    },
    {
      "cell_type": "code",
      "source": [],
      "metadata": {
        "id": "1VGGqprCG4qb"
      },
      "execution_count": null,
      "outputs": []
    },
    {
      "cell_type": "markdown",
      "source": [
        " 1. Create a parent class Animal with a method speak() that prints a generic message. Create a child class Dog\n",
        "that overrides the speak() method to print \"Bark!\"."
      ],
      "metadata": {
        "id": "AKowlwSZG5kq"
      }
    },
    {
      "cell_type": "code",
      "source": [
        "class Animal:\n",
        "    \"\"\"\n",
        "    A parent class representing a generic animal.\n",
        "    \"\"\"\n",
        "    def speak(self):\n",
        "        \"\"\"\n",
        "        A method that prints a generic message.\n",
        "        \"\"\"\n",
        "        print(\"A generic animal sound.\")\n",
        "\n",
        "class Dog(Animal):\n",
        "    \"\"\"\n",
        "    A child class representing a dog. It inherits from Animal.\n",
        "    \"\"\"\n",
        "    def speak(self):\n",
        "        \"\"\"\n",
        "        This method overrides the speak() method from the parent class.\n",
        "        It prints a specific message for a dog.\n",
        "        \"\"\"\n",
        "        print(\"Bark!\")\n",
        "\n",
        "# Create an instance of the parent class\n",
        "generic_animal = Animal()\n",
        "print(\"Creating a generic animal:\")\n",
        "generic_animal.speak()\n",
        "\n",
        "print(\"-\" * 20)\n",
        "\n",
        "# Create an instance of the child class\n",
        "my_dog = Dog()\n",
        "print(\"Creating a dog:\")\n",
        "my_dog.speak()"
      ],
      "metadata": {
        "colab": {
          "base_uri": "https://localhost:8080/"
        },
        "id": "UAM3XYvsG8Jq",
        "outputId": "e95f2f05-1ef2-4e6f-e435-be657224546d"
      },
      "execution_count": 34,
      "outputs": [
        {
          "output_type": "stream",
          "name": "stdout",
          "text": [
            "Creating a generic animal:\n",
            "A generic animal sound.\n",
            "--------------------\n",
            "Creating a dog:\n",
            "Bark!\n"
          ]
        }
      ]
    },
    {
      "cell_type": "code",
      "source": [],
      "metadata": {
        "id": "U_cWP7NdHHFx"
      },
      "execution_count": null,
      "outputs": []
    },
    {
      "cell_type": "markdown",
      "source": [
        " 2. Write a program to create an abstract class Shape with a method area(). Derive classes Circle and Rectangle\n",
        "from it and implement the area() method in both."
      ],
      "metadata": {
        "id": "KF0gC-38HP70"
      }
    },
    {
      "cell_type": "code",
      "source": [
        "import math\n",
        "from abc import ABC, abstractmethod\n",
        "\n",
        "# The parent class 'Shape' is an abstract base class (ABC)\n",
        "# It cannot be instantiated directly.\n",
        "class Shape(ABC):\n",
        "    \"\"\"\n",
        "    An abstract base class for different shapes.\n",
        "    It defines a common interface with the abstract method area().\n",
        "    \"\"\"\n",
        "    @abstractmethod\n",
        "    def area(self):\n",
        "        \"\"\"\n",
        "        An abstract method that must be implemented by any concrete subclass.\n",
        "        This method has no implementation in the base class.\n",
        "        \"\"\"\n",
        "        pass\n",
        "\n",
        "class Circle(Shape):\n",
        "    \"\"\"\n",
        "    A concrete class representing a circle, derived from Shape.\n",
        "    It implements the abstract area() method.\n",
        "    \"\"\"\n",
        "    def __init__(self, radius):\n",
        "        self.radius = radius\n",
        "\n",
        "    def area(self):\n",
        "        \"\"\"\n",
        "        Calculates and returns the area of the circle.\n",
        "        \"\"\"\n",
        "        return math.pi * self.radius ** 2\n",
        "\n",
        "class Rectangle(Shape):\n",
        "    \"\"\"\n",
        "    A concrete class representing a rectangle, derived from Shape.\n",
        "    It implements the abstract area() method.\n",
        "    \"\"\"\n",
        "    def __init__(self, width, height):\n",
        "        self.width = width\n",
        "        self.height = height\n",
        "\n",
        "    def area(self):\n",
        "        \"\"\"\n",
        "        Calculates and returns the area of the rectangle.\n",
        "        \"\"\"\n",
        "        return self.width * self.height\n",
        "\n",
        "# --- Demonstration of the classes ---\n",
        "# Create instances of the concrete classes\n",
        "circle = Circle(5)\n",
        "rectangle = Rectangle(4, 6)\n",
        "\n",
        "# Call the area() method on each object\n",
        "print(f\"Area of the circle: {circle.area():.2f}\")\n",
        "print(f\"Area of the rectangle: {rectangle.area()}\")"
      ],
      "metadata": {
        "colab": {
          "base_uri": "https://localhost:8080/"
        },
        "id": "vucTmCBRHQqd",
        "outputId": "0f1e2bb0-8478-41de-e616-6a80aca9c093"
      },
      "execution_count": 35,
      "outputs": [
        {
          "output_type": "stream",
          "name": "stdout",
          "text": [
            "Area of the circle: 78.54\n",
            "Area of the rectangle: 24\n"
          ]
        }
      ]
    },
    {
      "cell_type": "code",
      "source": [],
      "metadata": {
        "id": "x-MX3jSPHawR"
      },
      "execution_count": null,
      "outputs": []
    },
    {
      "cell_type": "markdown",
      "source": [
        "3. Implement a multi-level inheritance scenario where a class Vehicle has an attribute type. Derive a class Car\n",
        "and further derive a class ElectricCar that adds a battery attribute."
      ],
      "metadata": {
        "id": "K_HWrh2IHfa6"
      }
    },
    {
      "cell_type": "code",
      "source": [
        "class Vehicle:\n",
        "    \"\"\"\n",
        "    Parent class at the top of the hierarchy.\n",
        "    \"\"\"\n",
        "    def __init__(self, vehicle_type):\n",
        "        self.type = vehicle_type\n",
        "\n",
        "    def display_info(self):\n",
        "        print(f\"Vehicle Type: {self.type}\")\n",
        "\n",
        "class Car(Vehicle):\n",
        "    \"\"\"\n",
        "    Child class of Vehicle. It inherits the 'type' attribute.\n",
        "    \"\"\"\n",
        "    def __init__(self, vehicle_type, car_make):\n",
        "        # Call the parent class's constructor to initialize its attributes.\n",
        "        super().__init__(vehicle_type)\n",
        "        self.make = car_make\n",
        "\n",
        "    def display_info(self):\n",
        "        # The Car class overrides the display_info method to include its own attribute.\n",
        "        super().display_info()\n",
        "        print(f\"Car Make: {self.make}\")\n",
        "\n",
        "class ElectricCar(Car):\n",
        "    \"\"\"\n",
        "    Child class of Car. It inherits from both Car and Vehicle.\n",
        "    \"\"\"\n",
        "    def __init__(self, vehicle_type, car_make, battery_capacity):\n",
        "        # Call the parent class's constructor to initialize its attributes.\n",
        "        super().__init__(vehicle_type, car_make)\n",
        "        self.battery = battery_capacity\n",
        "\n",
        "    def display_info(self):\n",
        "        \"\"\"\n",
        "        The ElectricCar class overrides the method again to display all attributes.\n",
        "        \"\"\"\n",
        "        super().display_info()\n",
        "        print(f\"Battery Capacity: {self.battery} kWh\")\n",
        "\n",
        "# Create an instance of the final child class\n",
        "my_electric_car = ElectricCar(\"Sedan\", \"Tesla\", 75)\n",
        "\n",
        "# The single object has access to attributes and methods from all three classes.\n",
        "print(\"Displaying information for my electric car:\")\n",
        "my_electric_car.display_info()"
      ],
      "metadata": {
        "colab": {
          "base_uri": "https://localhost:8080/"
        },
        "id": "WrfmcGLZHgDB",
        "outputId": "3c97e4c9-f9d0-4154-e7ec-ef9ee04ee2c9"
      },
      "execution_count": 36,
      "outputs": [
        {
          "output_type": "stream",
          "name": "stdout",
          "text": [
            "Displaying information for my electric car:\n",
            "Vehicle Type: Sedan\n",
            "Car Make: Tesla\n",
            "Battery Capacity: 75 kWh\n"
          ]
        }
      ]
    },
    {
      "cell_type": "code",
      "source": [],
      "metadata": {
        "id": "xvbKixMGHn-r"
      },
      "execution_count": null,
      "outputs": []
    },
    {
      "cell_type": "markdown",
      "source": [
        " 4. Demonstrate polymorphism by creating a base class Bird with a method fly(). Create two derived classes\n",
        "Sparrow and Penguin that override the fly() method."
      ],
      "metadata": {
        "id": "x3U65JEyHpBI"
      }
    },
    {
      "cell_type": "code",
      "source": [
        "class Bird:\n",
        "    \"\"\"\n",
        "    A base class with a generic fly() method.\n",
        "    \"\"\"\n",
        "    def fly(self):\n",
        "        print(\"A generic bird flies.\")\n",
        "\n",
        "class Sparrow(Bird):\n",
        "    \"\"\"\n",
        "    A derived class that overrides the fly() method.\n",
        "    \"\"\"\n",
        "    def fly(self):\n",
        "        print(\"The sparrow is flying high!\")\n",
        "\n",
        "class Penguin(Bird):\n",
        "    \"\"\"\n",
        "    Another derived class that also overrides the fly() method.\n",
        "    \"\"\"\n",
        "    def fly(self):\n",
        "        print(\"The penguin cannot fly, it swims instead.\")\n",
        "\n",
        "# A function that demonstrates polymorphism\n",
        "def let_it_fly(bird):\n",
        "    \"\"\"\n",
        "    This function accepts any object that has a fly() method.\n",
        "    \"\"\"\n",
        "    bird.fly()\n",
        "\n",
        "# Create instances of the derived classes\n",
        "sparrow = Sparrow()\n",
        "penguin = Penguin()\n",
        "\n",
        "print(\"Demonstrating polymorphism:\")\n",
        "\n",
        "# The same function call results in different behavior\n",
        "# based on the object's specific implementation of fly().\n",
        "let_it_fly(sparrow)\n",
        "let_it_fly(penguin)"
      ],
      "metadata": {
        "colab": {
          "base_uri": "https://localhost:8080/"
        },
        "id": "_c_ufUDyHrwR",
        "outputId": "ead1cdd3-0349-401a-dbbf-ea8c437c4eaf"
      },
      "execution_count": 37,
      "outputs": [
        {
          "output_type": "stream",
          "name": "stdout",
          "text": [
            "Demonstrating polymorphism:\n",
            "The sparrow is flying high!\n",
            "The penguin cannot fly, it swims instead.\n"
          ]
        }
      ]
    },
    {
      "cell_type": "code",
      "source": [],
      "metadata": {
        "id": "O4qfiadRHy7E"
      },
      "execution_count": null,
      "outputs": []
    },
    {
      "cell_type": "markdown",
      "source": [
        "5. Write a program to demonstrate encapsulation by creating a class BankAccount with private attributes\n",
        "balance and methods to deposit, withdraw, and check balance."
      ],
      "metadata": {
        "id": "GgRjSREJHz1d"
      }
    },
    {
      "cell_type": "code",
      "source": [
        "class BankAccount:\n",
        "    \"\"\"\n",
        "    A class that demonstrates encapsulation by managing a bank account.\n",
        "    The balance is kept private and can only be accessed or modified\n",
        "    through public methods.\n",
        "    \"\"\"\n",
        "    def __init__(self, initial_balance=0):\n",
        "        # The balance is a private attribute, indicated by the leading underscore.\n",
        "        self._balance = initial_balance\n",
        "        print(f\"Account created with initial balance: ${self._balance:.2f}\")\n",
        "\n",
        "    def deposit(self, amount):\n",
        "        \"\"\"\n",
        "        Deposits a specified amount into the account.\n",
        "        \"\"\"\n",
        "        if amount > 0:\n",
        "            self._balance += amount\n",
        "            print(f\"Deposited: ${amount:.2f}\")\n",
        "            print(f\"New balance: ${self._balance:.2f}\")\n",
        "        else:\n",
        "            print(\"Deposit amount must be positive.\")\n",
        "\n",
        "    def withdraw(self, amount):\n",
        "        \"\"\"\n",
        "        Withdraws a specified amount from the account if funds are sufficient.\n",
        "        \"\"\"\n",
        "        if amount > 0:\n",
        "            if self._balance >= amount:\n",
        "                self._balance -= amount\n",
        "                print(f\"Withdrew: ${amount:.2f}\")\n",
        "                print(f\"New balance: ${self._balance:.2f}\")\n",
        "            else:\n",
        "                print(\"Insufficient funds.\")\n",
        "        else:\n",
        "            print(\"Withdrawal amount must be positive.\")\n",
        "\n",
        "    def get_balance(self):\n",
        "        \"\"\"\n",
        "        A public method to safely retrieve the current balance.\n",
        "        \"\"\"\n",
        "        return self._balance\n",
        "\n",
        "# --- Demonstration ---\n",
        "# Create an instance of the BankAccount class\n",
        "my_account = BankAccount(100)\n",
        "\n",
        "print(\"-\" * 25)\n",
        "\n",
        "# Interact with the account using the public methods\n",
        "my_account.deposit(50.75)\n",
        "my_account.withdraw(20.50)\n",
        "my_account.withdraw(200)  # This will fail due to insufficient funds\n",
        "\n",
        "print(\"-\" * 25)\n",
        "\n",
        "# Use the public get_balance method to check the final balance\n",
        "current_balance = my_account.get_balance()\n",
        "print(f\"Final balance using get_balance(): ${current_balance:.2f}\")"
      ],
      "metadata": {
        "colab": {
          "base_uri": "https://localhost:8080/"
        },
        "id": "SOy2GnA_H184",
        "outputId": "3fe00b16-0152-4bb3-eb2c-0852af27296d"
      },
      "execution_count": 38,
      "outputs": [
        {
          "output_type": "stream",
          "name": "stdout",
          "text": [
            "Account created with initial balance: $100.00\n",
            "-------------------------\n",
            "Deposited: $50.75\n",
            "New balance: $150.75\n",
            "Withdrew: $20.50\n",
            "New balance: $130.25\n",
            "Insufficient funds.\n",
            "-------------------------\n",
            "Final balance using get_balance(): $130.25\n"
          ]
        }
      ]
    },
    {
      "cell_type": "code",
      "source": [],
      "metadata": {
        "id": "sfELtWEKH-BB"
      },
      "execution_count": null,
      "outputs": []
    },
    {
      "cell_type": "markdown",
      "source": [
        " 6. Demonstrate runtime polymorphism using a method play() in a base class Instrument. Derive classes Guitar\n",
        "and Piano that implement their own version of play()."
      ],
      "metadata": {
        "id": "FXRoeaWmH_HX"
      }
    },
    {
      "cell_type": "code",
      "source": [
        "class Instrument:\n",
        "    \"\"\"\n",
        "    A base class for musical instruments with a generic play() method.\n",
        "    \"\"\"\n",
        "    def play(self):\n",
        "        \"\"\"\n",
        "        A generic method that will be overridden by subclasses.\n",
        "        \"\"\"\n",
        "        print(\"A generic instrument is playing a sound.\")\n",
        "\n",
        "class Guitar(Instrument):\n",
        "    \"\"\"\n",
        "    A derived class representing a guitar.\n",
        "    It overrides the play() method.\n",
        "    \"\"\"\n",
        "    def play(self):\n",
        "        print(\"The guitar is strumming a chord.\")\n",
        "\n",
        "class Piano(Instrument):\n",
        "    \"\"\"\n",
        "    A derived class representing a piano.\n",
        "    It provides its own unique implementation of play().\n",
        "    \"\"\"\n",
        "    def play(self):\n",
        "        print(\"The piano is playing a melody.\")\n",
        "\n",
        "# A function that demonstrates polymorphism\n",
        "def make_it_play(instrument):\n",
        "    \"\"\"\n",
        "    This function accepts any object that inherits from Instrument and\n",
        "    calls its play() method, demonstrating different behaviors.\n",
        "    \"\"\"\n",
        "    instrument.play()\n",
        "\n",
        "# Create instances of the derived classes\n",
        "my_guitar = Guitar()\n",
        "my_piano = Piano()\n",
        "\n",
        "print(\"Demonstrating runtime polymorphism:\")\n",
        "\n",
        "# The same function call 'make_it_play()' results in different behavior\n",
        "# depending on the object's specific implementation of play().\n",
        "make_it_play(my_guitar)\n",
        "make_it_play(my_piano)"
      ],
      "metadata": {
        "colab": {
          "base_uri": "https://localhost:8080/"
        },
        "id": "22Olc5UyIBAo",
        "outputId": "452c4aa3-8364-4746-f6c3-e4186806b8d6"
      },
      "execution_count": 39,
      "outputs": [
        {
          "output_type": "stream",
          "name": "stdout",
          "text": [
            "Demonstrating runtime polymorphism:\n",
            "The guitar is strumming a chord.\n",
            "The piano is playing a melody.\n"
          ]
        }
      ]
    },
    {
      "cell_type": "code",
      "source": [],
      "metadata": {
        "id": "H6YOA9DtILsd"
      },
      "execution_count": null,
      "outputs": []
    },
    {
      "cell_type": "markdown",
      "source": [
        "7. Create a class MathOperations with a class method add_numbers() to add two numbers and a static\n",
        "method subtract_numbers() to subtract two numbers."
      ],
      "metadata": {
        "id": "mm6OsIgTIM2r"
      }
    },
    {
      "cell_type": "code",
      "source": [
        "class MathOperations:\n",
        "    \"\"\"\n",
        "    A class that contains a class method and a static method.\n",
        "    \"\"\"\n",
        "    @classmethod\n",
        "    def add_numbers(cls, num1, num2):\n",
        "        \"\"\"\n",
        "        A class method to add two numbers.\n",
        "        It takes the class 'cls' as the first argument, but doesn't\n",
        "        use it in this simple example.\n",
        "        \"\"\"\n",
        "        return num1 + num2\n",
        "\n",
        "    @staticmethod\n",
        "    def subtract_numbers(num1, num2):\n",
        "        \"\"\"\n",
        "        A static method to subtract two numbers.\n",
        "        It doesn't take 'cls' or 'self' as an argument,\n",
        "        behaving like a regular function.\n",
        "        \"\"\"\n",
        "        return num1 - num2\n",
        "\n",
        "# Use the class method to perform an addition\n",
        "sum_result = MathOperations.add_numbers(10, 5)\n",
        "print(f\"Result of addition: {sum_result}\")\n",
        "\n",
        "# Use the static method to perform a subtraction\n",
        "diff_result = MathOperations.subtract_numbers(10, 5)\n",
        "print(f\"Result of subtraction: {diff_result}\")"
      ],
      "metadata": {
        "colab": {
          "base_uri": "https://localhost:8080/"
        },
        "id": "F0YXMr36IPmK",
        "outputId": "fc86bb1e-20bb-4480-b76d-82f9ea5a107d"
      },
      "execution_count": 40,
      "outputs": [
        {
          "output_type": "stream",
          "name": "stdout",
          "text": [
            "Result of addition: 15\n",
            "Result of subtraction: 5\n"
          ]
        }
      ]
    },
    {
      "cell_type": "code",
      "source": [],
      "metadata": {
        "id": "rl4vW-UpIXq7"
      },
      "execution_count": null,
      "outputs": []
    },
    {
      "cell_type": "markdown",
      "source": [
        " 8. Implement a class Person with a class method to count the total number of persons created.\n"
      ],
      "metadata": {
        "id": "_w4QWua4IYYV"
      }
    },
    {
      "cell_type": "code",
      "source": [
        "class Person:\n",
        "    \"\"\"\n",
        "    A class representing a person, which keeps a count of all\n",
        "    instances created.\n",
        "    \"\"\"\n",
        "    # This is a class attribute, shared by all instances of the class.\n",
        "    total_persons = 0\n",
        "\n",
        "    def __init__(self, name):\n",
        "        \"\"\"\n",
        "        The constructor for the Person class.\n",
        "        It increments the class attribute 'total_persons' each time a new\n",
        "        instance is created.\n",
        "        \"\"\"\n",
        "        self.name = name\n",
        "        Person.total_persons += 1\n",
        "        print(f\"A new person named '{self.name}' has been created.\")\n",
        "\n",
        "    @classmethod\n",
        "    def get_total_persons(cls):\n",
        "        \"\"\"\n",
        "        A class method that returns the total count of persons.\n",
        "        It takes the class 'cls' as its first argument and uses it to\n",
        "        access the class-level attribute.\n",
        "        \"\"\"\n",
        "        return cls.total_persons\n",
        "\n",
        "# Create a few instances of the Person class\n",
        "person1 = Person(\"Alice\")\n",
        "person2 = Person(\"Bob\")\n",
        "person3 = Person(\"Charlie\")\n",
        "\n",
        "print(\"-\" * 20)\n",
        "\n",
        "# Use the class method to get the total count.\n",
        "# We can call it directly on the class itself.\n",
        "print(f\"Total number of persons created: {Person.get_total_persons()}\")"
      ],
      "metadata": {
        "colab": {
          "base_uri": "https://localhost:8080/"
        },
        "id": "CRbre104Iaa-",
        "outputId": "4beb5fff-d28f-428d-c342-b20178409263"
      },
      "execution_count": 41,
      "outputs": [
        {
          "output_type": "stream",
          "name": "stdout",
          "text": [
            "A new person named 'Alice' has been created.\n",
            "A new person named 'Bob' has been created.\n",
            "A new person named 'Charlie' has been created.\n",
            "--------------------\n",
            "Total number of persons created: 3\n"
          ]
        }
      ]
    },
    {
      "cell_type": "code",
      "source": [],
      "metadata": {
        "id": "1z9GAMVuIjQ-"
      },
      "execution_count": null,
      "outputs": []
    },
    {
      "cell_type": "markdown",
      "source": [
        " 9. Write a class Fraction with attributes numerator and denominator. Override the str method to display the\n",
        "fraction as \"numerator/denominator\"."
      ],
      "metadata": {
        "id": "p7MzcX6XIkWl"
      }
    },
    {
      "cell_type": "code",
      "source": [
        "class Fraction:\n",
        "    \"\"\"\n",
        "    A class representing a fraction.\n",
        "    The __str__ method is overridden to provide a custom string representation.\n",
        "    \"\"\"\n",
        "    def __init__(self, numerator, denominator):\n",
        "        \"\"\"\n",
        "        Initializes the fraction with a numerator and a denominator.\n",
        "        \"\"\"\n",
        "        self.numerator = numerator\n",
        "        self.denominator = denominator\n",
        "\n",
        "    def __str__(self):\n",
        "        \"\"\"\n",
        "        This method is called when the object is converted to a string.\n",
        "        It's overridden here to display the fraction in a readable format.\n",
        "        \"\"\"\n",
        "        return f\"{self.numerator}/{self.denominator}\"\n",
        "\n",
        "# Create an instance of the Fraction class\n",
        "my_fraction = Fraction(3, 4)\n",
        "\n",
        "# When you print the object, the __str__ method is automatically called.\n",
        "print(my_fraction)\n",
        "\n",
        "# This also works in f-strings\n",
        "print(f\"The fraction is: {my_fraction}\")"
      ],
      "metadata": {
        "colab": {
          "base_uri": "https://localhost:8080/"
        },
        "id": "Kc0BtrSuImSz",
        "outputId": "c6f7c394-ce37-459a-fc67-f29d158c6961"
      },
      "execution_count": 42,
      "outputs": [
        {
          "output_type": "stream",
          "name": "stdout",
          "text": [
            "3/4\n",
            "The fraction is: 3/4\n"
          ]
        }
      ]
    },
    {
      "cell_type": "code",
      "source": [],
      "metadata": {
        "id": "C0-ZxZpcIuaF"
      },
      "execution_count": null,
      "outputs": []
    },
    {
      "cell_type": "markdown",
      "source": [
        "10. Demonstrate operator overloading by creating a class Vector and overriding the add method to add two\n",
        "vectors."
      ],
      "metadata": {
        "id": "zJus3SW-IvXF"
      }
    },
    {
      "cell_type": "code",
      "source": [
        "class Vector:\n",
        "    \"\"\"\n",
        "    A class representing a 2D vector with x and y components.\n",
        "    It overloads the '+' operator to enable vector addition.\n",
        "    \"\"\"\n",
        "    def __init__(self, x, y):\n",
        "        \"\"\"\n",
        "        Initializes the vector with x and y coordinates.\n",
        "        \"\"\"\n",
        "        self.x = x\n",
        "        self.y = y\n",
        "\n",
        "    def __str__(self):\n",
        "        \"\"\"\n",
        "        Returns a string representation of the vector for easy printing.\n",
        "        \"\"\"\n",
        "        return f\"({self.x}, {self.y})\"\n",
        "\n",
        "    def __add__(self, other):\n",
        "        \"\"\"\n",
        "        This method overloads the '+' operator.\n",
        "        When you use the '+' operator on two Vector objects, this method\n",
        "        is called. It returns a new Vector object with the sum of the\n",
        "        respective components.\n",
        "        \"\"\"\n",
        "        new_x = self.x + other.x\n",
        "        new_y = self.y + other.y\n",
        "        return Vector(new_x, new_y)\n",
        "\n",
        "# --- Demonstration of operator overloading ---\n",
        "# Create two instances of the Vector class\n",
        "vector1 = Vector(2, 3)\n",
        "vector2 = Vector(5, 7)\n",
        "\n",
        "# Add the two vectors using the '+' operator, which calls the __add__ method\n",
        "sum_vector = vector1 + vector2\n",
        "\n",
        "print(f\"Vector 1: {vector1}\")\n",
        "print(f\"Vector 2: {vector2}\")\n",
        "print(f\"Sum of vectors: {sum_vector}\")\n"
      ],
      "metadata": {
        "colab": {
          "base_uri": "https://localhost:8080/"
        },
        "id": "uLVlorf5IxIe",
        "outputId": "3629cf74-82fc-4a25-cc19-17805a5d93b9"
      },
      "execution_count": 43,
      "outputs": [
        {
          "output_type": "stream",
          "name": "stdout",
          "text": [
            "Vector 1: (2, 3)\n",
            "Vector 2: (5, 7)\n",
            "Sum of vectors: (7, 10)\n"
          ]
        }
      ]
    },
    {
      "cell_type": "code",
      "source": [],
      "metadata": {
        "id": "75--zrrSI3IE"
      },
      "execution_count": null,
      "outputs": []
    },
    {
      "cell_type": "markdown",
      "source": [
        " 11. Create a class Person with attributes name and age. Add a method greet() that prints \"Hello, my name is\n",
        "{name} and I am {age} years old.\""
      ],
      "metadata": {
        "id": "_3yD0VNFI4C_"
      }
    },
    {
      "cell_type": "code",
      "source": [
        "class Person:\n",
        "    \"\"\"\n",
        "    A class representing a person with a name and an age.\n",
        "    \"\"\"\n",
        "    def __init__(self, name, age):\n",
        "        \"\"\"\n",
        "        Initializes the Person object with a name and age.\n",
        "        \"\"\"\n",
        "        self.name = name\n",
        "        self.age = age\n",
        "\n",
        "    def greet(self):\n",
        "        \"\"\"\n",
        "        Prints a greeting message using the person's name and age.\n",
        "        \"\"\"\n",
        "        print(f\"Hello, my name is {self.name} and I am {self.age} years old.\")\n",
        "\n",
        "# --- Demonstration of the class ---\n",
        "# Create an instance of the Person class\n",
        "person1 = Person(\"Alice\", 30)\n",
        "\n",
        "# Call the greet() method on the object\n",
        "person1.greet()"
      ],
      "metadata": {
        "colab": {
          "base_uri": "https://localhost:8080/"
        },
        "id": "Y8U8_Ti8I6_1",
        "outputId": "9f58b26a-78ae-429f-f08f-0bb7a5428d5e"
      },
      "execution_count": 44,
      "outputs": [
        {
          "output_type": "stream",
          "name": "stdout",
          "text": [
            "Hello, my name is Alice and I am 30 years old.\n"
          ]
        }
      ]
    },
    {
      "cell_type": "code",
      "source": [],
      "metadata": {
        "id": "UPAVtwXlI_-z"
      },
      "execution_count": null,
      "outputs": []
    },
    {
      "cell_type": "markdown",
      "source": [
        " 12. Implement a class Student with attributes name and grades. Create a method average_grade() to compute\n",
        "the average of the grades."
      ],
      "metadata": {
        "id": "P8tF89LqJBJg"
      }
    },
    {
      "cell_type": "code",
      "source": [
        "class Student:\n",
        "    \"\"\"\n",
        "    A class representing a student.\n",
        "    \"\"\"\n",
        "    def __init__(self, name, grades):\n",
        "        \"\"\"\n",
        "        Initializes the Student object with a name (string) and a list of grades (list of numbers).\n",
        "        \"\"\"\n",
        "        self.name = name\n",
        "        self.grades = grades\n",
        "\n",
        "    def average_grade(self):\n",
        "        \"\"\"\n",
        "        Calculates and returns the average of the student's grades.\n",
        "        Returns 0 if the grades list is empty to avoid division by zero.\n",
        "        \"\"\"\n",
        "        if not self.grades:\n",
        "            return 0\n",
        "        return sum(self.grades) / len(self.grades)\n",
        "\n",
        "# --- Demonstration of the class ---\n",
        "# Create an instance of the Student class with a list of grades\n",
        "student1 = Student(\"Charlie\", [85, 90, 78, 92, 88])\n",
        "\n",
        "# Call the average_grade() method on the object\n",
        "average = student1.average_grade()\n",
        "print(f\"The average grade for {student1.name} is: {average:.2f}\")\n",
        "\n",
        "# Example with an empty list of grades\n",
        "student2 = Student(\"Dana\", [])\n",
        "average_empty = student2.average_grade()\n",
        "print(f\"The average grade for {student2.name} is: {average_empty:.2f}\")"
      ],
      "metadata": {
        "colab": {
          "base_uri": "https://localhost:8080/"
        },
        "id": "BKATxvOeJEhJ",
        "outputId": "d5f5ebb5-1178-4f0c-b379-23502bf6031c"
      },
      "execution_count": 45,
      "outputs": [
        {
          "output_type": "stream",
          "name": "stdout",
          "text": [
            "The average grade for Charlie is: 86.60\n",
            "The average grade for Dana is: 0.00\n"
          ]
        }
      ]
    },
    {
      "cell_type": "code",
      "source": [],
      "metadata": {
        "id": "6h6j2cXRJKge"
      },
      "execution_count": null,
      "outputs": []
    },
    {
      "cell_type": "markdown",
      "source": [
        " 13. Create a class Rectangle with methods set_dimensions() to set the dimensions and area() to calculate the\n",
        "area."
      ],
      "metadata": {
        "id": "yswrU7FvJMh2"
      }
    },
    {
      "cell_type": "code",
      "source": [
        "class Rectangle:\n",
        "    \"\"\"\n",
        "    A class representing a rectangle.\n",
        "    \"\"\"\n",
        "    def __init__(self):\n",
        "        \"\"\"\n",
        "        Initializes a new rectangle with default dimensions.\n",
        "        \"\"\"\n",
        "        self.width = 0\n",
        "        self.height = 0\n",
        "\n",
        "    def set_dimensions(self, width, height):\n",
        "        \"\"\"\n",
        "        Sets the width and height of the rectangle.\n",
        "        \"\"\"\n",
        "        if width > 0 and height > 0:\n",
        "            self.width = width\n",
        "            self.height = height\n",
        "            print(f\"Rectangle dimensions set to: {self.width}x{self.height}\")\n",
        "        else:\n",
        "            print(\"Dimensions must be positive values.\")\n",
        "\n",
        "    def area(self):\n",
        "        \"\"\"\n",
        "        Calculates and returns the area of the rectangle.\n",
        "        \"\"\"\n",
        "        return self.width * self.height\n",
        "\n",
        "# --- Demonstration of the class ---\n",
        "# Create an instance of the Rectangle class\n",
        "my_rectangle = Rectangle()\n",
        "\n",
        "# Set the dimensions using the set_dimensions() method\n",
        "my_rectangle.set_dimensions(10, 5)\n",
        "\n",
        "# Calculate and print the area\n",
        "rectangle_area = my_rectangle.area()\n",
        "print(f\"The area of the rectangle is: {rectangle_area}\")\n"
      ],
      "metadata": {
        "colab": {
          "base_uri": "https://localhost:8080/"
        },
        "id": "wHOO0FZhJNA7",
        "outputId": "6a8e6193-5bb1-4c8d-b4b9-7f9239e89fae"
      },
      "execution_count": 46,
      "outputs": [
        {
          "output_type": "stream",
          "name": "stdout",
          "text": [
            "Rectangle dimensions set to: 10x5\n",
            "The area of the rectangle is: 50\n"
          ]
        }
      ]
    },
    {
      "cell_type": "code",
      "source": [],
      "metadata": {
        "id": "QPxIw0tWJSRZ"
      },
      "execution_count": null,
      "outputs": []
    },
    {
      "cell_type": "markdown",
      "source": [
        "14. Create a class Employee with a method calculate_salary() that computes the salary based on hours worked\n",
        "and hourly rate. Create a derived class Manager that adds a bonus to the salary."
      ],
      "metadata": {
        "id": "gGYEk34qJVpr"
      }
    },
    {
      "cell_type": "code",
      "source": [
        "class Employee:\n",
        "    \"\"\"\n",
        "    A base class for employees with a method to calculate salary.\n",
        "    \"\"\"\n",
        "    def __init__(self, name, hourly_rate, hours_worked):\n",
        "        \"\"\"\n",
        "        Initializes the employee with a name, hourly rate, and hours worked.\n",
        "        \"\"\"\n",
        "        self.name = name\n",
        "        self.hourly_rate = hourly_rate\n",
        "        self.hours_worked = hours_worked\n",
        "\n",
        "    def calculate_salary(self):\n",
        "        \"\"\"\n",
        "        Calculates the salary based on hourly rate and hours worked.\n",
        "        \"\"\"\n",
        "        return self.hourly_rate * self.hours_worked\n",
        "\n",
        "class Manager(Employee):\n",
        "    \"\"\"\n",
        "    A derived class from Employee that adds a bonus to the salary.\n",
        "    \"\"\"\n",
        "    def __init__(self, name, hourly_rate, hours_worked, bonus):\n",
        "        \"\"\"\n",
        "        Initializes the manager, calling the parent's constructor and\n",
        "        adding a bonus attribute.\n",
        "        \"\"\"\n",
        "        # Call the parent class constructor to handle inherited attributes.\n",
        "        super().__init__(name, hourly_rate, hours_worked)\n",
        "        self.bonus = bonus\n",
        "\n",
        "    def calculate_salary(self):\n",
        "        \"\"\"\n",
        "        Overrides the parent's method to include the bonus.\n",
        "        It calls the parent's calculate_salary() and adds the bonus amount.\n",
        "        \"\"\"\n",
        "        base_salary = super().calculate_salary()\n",
        "        return base_salary + self.bonus\n",
        "\n",
        "# --- Demonstration of the classes ---\n",
        "# Create an instance of the Employee class\n",
        "employee = Employee(\"Alice\", 25, 40)\n",
        "employee_salary = employee.calculate_salary()\n",
        "print(f\"Employee {employee.name}'s salary: ${employee_salary:.2f}\")\n",
        "\n",
        "print(\"-\" * 25)\n",
        "\n",
        "# Create an instance of the Manager class\n",
        "manager = Manager(\"Bob\", 35, 40, 500)\n",
        "manager_salary = manager.calculate_salary()\n",
        "print(f\"Manager {manager.name}'s salary: ${manager_salary:.2f}\")"
      ],
      "metadata": {
        "colab": {
          "base_uri": "https://localhost:8080/"
        },
        "id": "vF4ofTpMJWDl",
        "outputId": "4a27d850-dfcb-4405-ad74-843cfd8f665e"
      },
      "execution_count": 47,
      "outputs": [
        {
          "output_type": "stream",
          "name": "stdout",
          "text": [
            "Employee Alice's salary: $1000.00\n",
            "-------------------------\n",
            "Manager Bob's salary: $1900.00\n"
          ]
        }
      ]
    },
    {
      "cell_type": "code",
      "source": [],
      "metadata": {
        "id": "-PFqxxeSJeuR"
      },
      "execution_count": null,
      "outputs": []
    },
    {
      "cell_type": "markdown",
      "source": [
        "15. Create a class Product with attributes name, price, and quantity. Implement a method total_price() that\n",
        "calculates the total price of the product."
      ],
      "metadata": {
        "id": "bWehOoz7Jfiu"
      }
    },
    {
      "cell_type": "code",
      "source": [
        "class Product:\n",
        "    \"\"\"\n",
        "    A class representing a product with its name, price, and quantity.\n",
        "    \"\"\"\n",
        "    def __init__(self, name, price, quantity):\n",
        "        \"\"\"\n",
        "        Initializes the Product object.\n",
        "        Args:\n",
        "            name (str): The name of the product.\n",
        "            price (float): The price per unit of the product.\n",
        "            quantity (int): The number of units of the product.\n",
        "        \"\"\"\n",
        "        self.name = name\n",
        "        self.price = price\n",
        "        self.quantity = quantity\n",
        "\n",
        "    def total_price(self):\n",
        "        \"\"\"\n",
        "        Calculates and returns the total price of the product\n",
        "        (price per unit multiplied by quantity).\n",
        "        Returns:\n",
        "            float: The total price.\n",
        "        \"\"\"\n",
        "        return self.price * self.quantity\n",
        "\n",
        "# --- Demonstration ---\n",
        "# Create an instance of the Product class\n",
        "product1 = Product(\"Laptop\", 1200.50, 2)\n",
        "\n",
        "# Calculate the total price using the total_price() method\n",
        "total = product1.total_price()\n",
        "\n",
        "print(f\"Product Name: {product1.name}\")\n",
        "print(f\"Price per unit: ${product1.price:.2f}\")\n",
        "print(f\"Quantity: {product1.quantity}\")\n",
        "print(\"-\" * 25)\n",
        "print(f\"Total Price: ${total:.2f}\")"
      ],
      "metadata": {
        "colab": {
          "base_uri": "https://localhost:8080/"
        },
        "id": "qoOk6uY6JhUN",
        "outputId": "0c26ca61-74cf-4b30-8128-b5157a404998"
      },
      "execution_count": 48,
      "outputs": [
        {
          "output_type": "stream",
          "name": "stdout",
          "text": [
            "Product Name: Laptop\n",
            "Price per unit: $1200.50\n",
            "Quantity: 2\n",
            "-------------------------\n",
            "Total Price: $2401.00\n"
          ]
        }
      ]
    },
    {
      "cell_type": "code",
      "source": [],
      "metadata": {
        "id": "9TttbkK1Joel"
      },
      "execution_count": null,
      "outputs": []
    },
    {
      "cell_type": "markdown",
      "source": [
        "16. Create a class Animal with an abstract method sound(). Create two derived classes Cow and Sheep that\n",
        "implement the sound() method."
      ],
      "metadata": {
        "id": "aAwbd-muJpMV"
      }
    },
    {
      "cell_type": "code",
      "source": [
        "from abc import ABC, abstractmethod\n",
        "\n",
        "class Animal(ABC):\n",
        "    \"\"\"\n",
        "    An abstract base class for animals.\n",
        "    It defines a common interface with the abstract method sound().\n",
        "    \"\"\"\n",
        "    @abstractmethod\n",
        "    def sound(self):\n",
        "        \"\"\"\n",
        "        An abstract method that must be implemented by any concrete subclass.\n",
        "        \"\"\"\n",
        "        pass\n",
        "\n",
        "class Cow(Animal):\n",
        "    \"\"\"\n",
        "    A concrete class representing a cow, derived from Animal.\n",
        "    It implements the abstract sound() method.\n",
        "    \"\"\"\n",
        "    def sound(self):\n",
        "        \"\"\"\n",
        "        Implements the sound for a cow.\n",
        "        \"\"\"\n",
        "        print(\"Moo!\")\n",
        "\n",
        "class Sheep(Animal):\n",
        "    \"\"\"\n",
        "    A concrete class representing a sheep, derived from Animal.\n",
        "    It implements the abstract sound() method.\n",
        "    \"\"\"\n",
        "    def sound(self):\n",
        "        \"\"\"\n",
        "        Implements the sound for a sheep.\n",
        "        \"\"\"\n",
        "        print(\"Baa!\")\n",
        "\n",
        "# --- Demonstration ---\n",
        "# Create instances of the derived classes\n",
        "cow = Cow()\n",
        "sheep = Sheep()\n",
        "\n",
        "# Call the sound() method on each object\n",
        "print(\"A cow makes this sound:\")\n",
        "cow.sound()\n",
        "\n",
        "print(\"\\nA sheep makes this sound:\")\n",
        "sheep.sound()\n",
        "\n",
        "# This would raise a TypeError because you cannot instantiate an abstract class.\n",
        "# try:\n",
        "#     generic_animal = Animal()\n",
        "# except TypeError as e:\n",
        "#     print(f\"\\nCaught an error: {e}\")"
      ],
      "metadata": {
        "colab": {
          "base_uri": "https://localhost:8080/"
        },
        "id": "EBVwfnRCJsWH",
        "outputId": "5ddacf63-e836-40e6-f873-0348d0baa3f9"
      },
      "execution_count": 49,
      "outputs": [
        {
          "output_type": "stream",
          "name": "stdout",
          "text": [
            "A cow makes this sound:\n",
            "Moo!\n",
            "\n",
            "A sheep makes this sound:\n",
            "Baa!\n"
          ]
        }
      ]
    },
    {
      "cell_type": "code",
      "source": [],
      "metadata": {
        "id": "OgRTOe2lJxwu"
      },
      "execution_count": null,
      "outputs": []
    },
    {
      "cell_type": "markdown",
      "source": [
        " 17. Create a class Book with attributes title, author, and year_published. Add a method get_book_info() that\n",
        "returns a formatted string with the book's details."
      ],
      "metadata": {
        "id": "5BFFDK4WJyo9"
      }
    },
    {
      "cell_type": "code",
      "source": [
        "class Book:\n",
        "    \"\"\"\n",
        "    A class representing a book with its title, author, and publication year.\n",
        "    \"\"\"\n",
        "    def __init__(self, title, author, year_published):\n",
        "        \"\"\"\n",
        "        Initializes the Book object.\n",
        "        \"\"\"\n",
        "        self.title = title\n",
        "        self.author = author\n",
        "        self.year_published = year_published\n",
        "\n",
        "    def get_book_info(self):\n",
        "        \"\"\"\n",
        "        Returns a formatted string containing the book's details.\n",
        "        \"\"\"\n",
        "        return f'\"{self.title}\" by {self.author}, published in {self.year_published}.'\n",
        "\n",
        "# --- Demonstration of the class ---\n",
        "# Create an instance of the Book class\n",
        "book1 = Book(\"The Hitchhiker's Guide to the Galaxy\", \"Douglas Adams\", 1979)\n",
        "\n",
        "# Call the get_book_info() method and print the result\n",
        "book_info = book1.get_book_info()\n",
        "print(book_info)"
      ],
      "metadata": {
        "colab": {
          "base_uri": "https://localhost:8080/"
        },
        "id": "yWe7dCaEJ0MB",
        "outputId": "29be5972-99cd-4b69-c4d2-59c150252a25"
      },
      "execution_count": 50,
      "outputs": [
        {
          "output_type": "stream",
          "name": "stdout",
          "text": [
            "\"The Hitchhiker's Guide to the Galaxy\" by Douglas Adams, published in 1979.\n"
          ]
        }
      ]
    },
    {
      "cell_type": "code",
      "source": [],
      "metadata": {
        "id": "Eww1lQj8J47X"
      },
      "execution_count": null,
      "outputs": []
    },
    {
      "cell_type": "markdown",
      "source": [
        " 18. Create a class House with attributes address and price. Create a derived class Mansion that adds an\n",
        "attribute number_of_rooms."
      ],
      "metadata": {
        "id": "VmaXqYTQJ5vJ"
      }
    },
    {
      "cell_type": "code",
      "source": [
        "class House:\n",
        "    \"\"\"\n",
        "    A base class for different types of houses.\n",
        "    \"\"\"\n",
        "    def __init__(self, address, price):\n",
        "        \"\"\"\n",
        "        Initializes the House with an address and a price.\n",
        "        \"\"\"\n",
        "        self.address = address\n",
        "        self.price = price\n",
        "\n",
        "    def display_info(self):\n",
        "        \"\"\"\n",
        "        Displays the basic information about the house.\n",
        "        \"\"\"\n",
        "        print(f\"Address: {self.address}\")\n",
        "        print(f\"Price: ${self.price:,.2f}\")\n",
        "\n",
        "class Mansion(House):\n",
        "    \"\"\"\n",
        "    A derived class from House that represents a mansion.\n",
        "    It adds an attribute for the number of rooms.\n",
        "    \"\"\"\n",
        "    def __init__(self, address, price, number_of_rooms):\n",
        "        \"\"\"\n",
        "        Initializes the Mansion, calling the parent's constructor and\n",
        "        adding the number_of_rooms attribute.\n",
        "        \"\"\"\n",
        "        super().__init__(address, price)\n",
        "        self.number_of_rooms = number_of_rooms\n",
        "\n",
        "    def display_info(self):\n",
        "        \"\"\"\n",
        "        Overrides the parent's method to include the number of rooms.\n",
        "        \"\"\"\n",
        "        super().display_info()\n",
        "        print(f\"Number of Rooms: {self.number_of_rooms}\")\n",
        "\n",
        "# --- Demonstration of the classes ---\n",
        "# Create an instance of the House class\n",
        "house = House(\"123 Elm Street\", 300000)\n",
        "print(\"Information for a standard house:\")\n",
        "house.display_info()\n",
        "\n",
        "print(\"-\" * 25)\n",
        "\n",
        "# Create an instance of the Mansion class\n",
        "mansion = Mansion(\"456 Oak Avenue\", 5500000, 15)\n",
        "print(\"Information for a mansion:\")\n",
        "mansion.display_info()"
      ],
      "metadata": {
        "colab": {
          "base_uri": "https://localhost:8080/"
        },
        "id": "AEItArliJ7bJ",
        "outputId": "85f55a89-e978-4205-fbec-cc0f445e8b45"
      },
      "execution_count": 51,
      "outputs": [
        {
          "output_type": "stream",
          "name": "stdout",
          "text": [
            "Information for a standard house:\n",
            "Address: 123 Elm Street\n",
            "Price: $300,000.00\n",
            "-------------------------\n",
            "Information for a mansion:\n",
            "Address: 456 Oak Avenue\n",
            "Price: $5,500,000.00\n",
            "Number of Rooms: 15\n"
          ]
        }
      ]
    },
    {
      "cell_type": "code",
      "source": [],
      "metadata": {
        "id": "XCJ1c-ydJ-UA"
      },
      "execution_count": null,
      "outputs": []
    }
  ]
}